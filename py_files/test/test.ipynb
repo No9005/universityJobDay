{
 "cells": [
  {
   "cell_type": "code",
   "execution_count": 1,
   "metadata": {},
   "outputs": [],
   "source": [
    "import pandas as pd \n",
    "import numpy as np\n",
    "import itertools"
   ]
  },
  {
   "cell_type": "code",
   "execution_count": 2,
   "metadata": {},
   "outputs": [],
   "source": [
    "import sqlite3"
   ]
  },
  {
   "cell_type": "code",
   "execution_count": 3,
   "metadata": {},
   "outputs": [],
   "source": [
    "conn = sqlite3.connect('/var/www/universityJobDay/universityJobDay/database/answers.db')\n",
    "#conn = sqlite3.connect('/home/daniel/git/universityJobDay/database/answers.db')"
   ]
  },
  {
   "cell_type": "code",
   "execution_count": 4,
   "metadata": {},
   "outputs": [],
   "source": [
    "df = pd.read_sql_query('SELECT * from answers', conn)"
   ]
  },
  {
   "cell_type": "code",
   "execution_count": 5,
   "metadata": {},
   "outputs": [
    {
     "output_type": "execute_result",
     "data": {
      "text/plain": "   id        sessionID f1 f2     f3 f4  \\\n0   1  2N01KFSNC2RQIZM  1  3  3~0~2  4   \n1   2  EO29HHPJT4CYAO2  0  1    3~1  3   \n2   3  2EL8BUZB5J0O873  0  3    6~0  4   \n3   4  C1BRP0FGCG6YSHS  0  3    0~1  2   \n4   5  CP5VTIEK8FNC22P  1  3  0~2~1  2   \n\n                                                  f5 f6  \\\n0                                                  1  1   \n1                  Risiko Datenschutz + Privatsphäre  2   \n2  Chancen: Sicherheit, Prävention\\nRisiken: der ...  2   \n3  Chancen: Minimierung von Fehlern\\nRisiken: \"En...  2   \n4  Analyse von vielen unstrukturierten und auf de...  0   \n\n                         date  \n0  2020-05-20 05:40:56.670853  \n1  2020-05-20 05:46:35.477319  \n2  2020-05-20 05:53:47.294080  \n3  2020-05-20 06:13:47.718848  \n4  2020-05-20 06:24:26.482387  ",
      "text/html": "<div>\n<style scoped>\n    .dataframe tbody tr th:only-of-type {\n        vertical-align: middle;\n    }\n\n    .dataframe tbody tr th {\n        vertical-align: top;\n    }\n\n    .dataframe thead th {\n        text-align: right;\n    }\n</style>\n<table border=\"1\" class=\"dataframe\">\n  <thead>\n    <tr style=\"text-align: right;\">\n      <th></th>\n      <th>id</th>\n      <th>sessionID</th>\n      <th>f1</th>\n      <th>f2</th>\n      <th>f3</th>\n      <th>f4</th>\n      <th>f5</th>\n      <th>f6</th>\n      <th>date</th>\n    </tr>\n  </thead>\n  <tbody>\n    <tr>\n      <th>0</th>\n      <td>1</td>\n      <td>2N01KFSNC2RQIZM</td>\n      <td>1</td>\n      <td>3</td>\n      <td>3~0~2</td>\n      <td>4</td>\n      <td>1</td>\n      <td>1</td>\n      <td>2020-05-20 05:40:56.670853</td>\n    </tr>\n    <tr>\n      <th>1</th>\n      <td>2</td>\n      <td>EO29HHPJT4CYAO2</td>\n      <td>0</td>\n      <td>1</td>\n      <td>3~1</td>\n      <td>3</td>\n      <td>Risiko Datenschutz + Privatsphäre</td>\n      <td>2</td>\n      <td>2020-05-20 05:46:35.477319</td>\n    </tr>\n    <tr>\n      <th>2</th>\n      <td>3</td>\n      <td>2EL8BUZB5J0O873</td>\n      <td>0</td>\n      <td>3</td>\n      <td>6~0</td>\n      <td>4</td>\n      <td>Chancen: Sicherheit, Prävention\\nRisiken: der ...</td>\n      <td>2</td>\n      <td>2020-05-20 05:53:47.294080</td>\n    </tr>\n    <tr>\n      <th>3</th>\n      <td>4</td>\n      <td>C1BRP0FGCG6YSHS</td>\n      <td>0</td>\n      <td>3</td>\n      <td>0~1</td>\n      <td>2</td>\n      <td>Chancen: Minimierung von Fehlern\\nRisiken: \"En...</td>\n      <td>2</td>\n      <td>2020-05-20 06:13:47.718848</td>\n    </tr>\n    <tr>\n      <th>4</th>\n      <td>5</td>\n      <td>CP5VTIEK8FNC22P</td>\n      <td>1</td>\n      <td>3</td>\n      <td>0~2~1</td>\n      <td>2</td>\n      <td>Analyse von vielen unstrukturierten und auf de...</td>\n      <td>0</td>\n      <td>2020-05-20 06:24:26.482387</td>\n    </tr>\n  </tbody>\n</table>\n</div>"
     },
     "metadata": {},
     "execution_count": 5
    }
   ],
   "source": [
    "df.head()"
   ]
  },
  {
   "cell_type": "code",
   "execution_count": 6,
   "metadata": {},
   "outputs": [],
   "source": [
    "conn.close()"
   ]
  },
  {
   "cell_type": "code",
   "execution_count": 7,
   "metadata": {},
   "outputs": [],
   "source": [
    "f3 = df[\"f3\"].apply(lambda x: x.split(\"~\"))"
   ]
  },
  {
   "cell_type": "code",
   "execution_count": 8,
   "metadata": {},
   "outputs": [],
   "source": [
    "f3 = pd.DataFrame([entry + [\"-99\"] * (3-len(entry)) for entry in f3], columns = [\"f3_1\", \"f3_2\", \"f3_3\"]).astype(int)"
   ]
  },
  {
   "cell_type": "code",
   "execution_count": 9,
   "metadata": {},
   "outputs": [],
   "source": [
    "f3.replace(-99, np.nan, inplace = True)"
   ]
  },
  {
   "cell_type": "code",
   "execution_count": 10,
   "metadata": {},
   "outputs": [],
   "source": [
    "date = pd.DataFrame([[entry.split(\" \")[0], entry.split(\" \")[1]] for entry in df[\"date\"]], columns = [\"date\", \"time\"])"
   ]
  },
  {
   "cell_type": "code",
   "execution_count": 11,
   "metadata": {},
   "outputs": [],
   "source": [
    "df = pd.concat([df.loc[:, [col for col in df.columns if col not in  [\"f3\", \"date\"]]], f3, date], axis = 1)"
   ]
  },
  {
   "cell_type": "code",
   "execution_count": 12,
   "metadata": {},
   "outputs": [
    {
     "output_type": "execute_result",
     "data": {
      "text/plain": "   id        sessionID f1 f2 f4  \\\n0   1  2N01KFSNC2RQIZM  1  3  4   \n1   2  EO29HHPJT4CYAO2  0  1  3   \n2   3  2EL8BUZB5J0O873  0  3  4   \n3   4  C1BRP0FGCG6YSHS  0  3  2   \n4   5  CP5VTIEK8FNC22P  1  3  2   \n\n                                                  f5 f6  f3_1  f3_2  f3_3  \\\n0                                                  1  1     3   0.0   2.0   \n1                  Risiko Datenschutz + Privatsphäre  2     3   1.0   NaN   \n2  Chancen: Sicherheit, Prävention\\nRisiken: der ...  2     6   0.0   NaN   \n3  Chancen: Minimierung von Fehlern\\nRisiken: \"En...  2     0   1.0   NaN   \n4  Analyse von vielen unstrukturierten und auf de...  0     0   2.0   1.0   \n\n         date             time  \n0  2020-05-20  05:40:56.670853  \n1  2020-05-20  05:46:35.477319  \n2  2020-05-20  05:53:47.294080  \n3  2020-05-20  06:13:47.718848  \n4  2020-05-20  06:24:26.482387  ",
      "text/html": "<div>\n<style scoped>\n    .dataframe tbody tr th:only-of-type {\n        vertical-align: middle;\n    }\n\n    .dataframe tbody tr th {\n        vertical-align: top;\n    }\n\n    .dataframe thead th {\n        text-align: right;\n    }\n</style>\n<table border=\"1\" class=\"dataframe\">\n  <thead>\n    <tr style=\"text-align: right;\">\n      <th></th>\n      <th>id</th>\n      <th>sessionID</th>\n      <th>f1</th>\n      <th>f2</th>\n      <th>f4</th>\n      <th>f5</th>\n      <th>f6</th>\n      <th>f3_1</th>\n      <th>f3_2</th>\n      <th>f3_3</th>\n      <th>date</th>\n      <th>time</th>\n    </tr>\n  </thead>\n  <tbody>\n    <tr>\n      <th>0</th>\n      <td>1</td>\n      <td>2N01KFSNC2RQIZM</td>\n      <td>1</td>\n      <td>3</td>\n      <td>4</td>\n      <td>1</td>\n      <td>1</td>\n      <td>3</td>\n      <td>0.0</td>\n      <td>2.0</td>\n      <td>2020-05-20</td>\n      <td>05:40:56.670853</td>\n    </tr>\n    <tr>\n      <th>1</th>\n      <td>2</td>\n      <td>EO29HHPJT4CYAO2</td>\n      <td>0</td>\n      <td>1</td>\n      <td>3</td>\n      <td>Risiko Datenschutz + Privatsphäre</td>\n      <td>2</td>\n      <td>3</td>\n      <td>1.0</td>\n      <td>NaN</td>\n      <td>2020-05-20</td>\n      <td>05:46:35.477319</td>\n    </tr>\n    <tr>\n      <th>2</th>\n      <td>3</td>\n      <td>2EL8BUZB5J0O873</td>\n      <td>0</td>\n      <td>3</td>\n      <td>4</td>\n      <td>Chancen: Sicherheit, Prävention\\nRisiken: der ...</td>\n      <td>2</td>\n      <td>6</td>\n      <td>0.0</td>\n      <td>NaN</td>\n      <td>2020-05-20</td>\n      <td>05:53:47.294080</td>\n    </tr>\n    <tr>\n      <th>3</th>\n      <td>4</td>\n      <td>C1BRP0FGCG6YSHS</td>\n      <td>0</td>\n      <td>3</td>\n      <td>2</td>\n      <td>Chancen: Minimierung von Fehlern\\nRisiken: \"En...</td>\n      <td>2</td>\n      <td>0</td>\n      <td>1.0</td>\n      <td>NaN</td>\n      <td>2020-05-20</td>\n      <td>06:13:47.718848</td>\n    </tr>\n    <tr>\n      <th>4</th>\n      <td>5</td>\n      <td>CP5VTIEK8FNC22P</td>\n      <td>1</td>\n      <td>3</td>\n      <td>2</td>\n      <td>Analyse von vielen unstrukturierten und auf de...</td>\n      <td>0</td>\n      <td>0</td>\n      <td>2.0</td>\n      <td>1.0</td>\n      <td>2020-05-20</td>\n      <td>06:24:26.482387</td>\n    </tr>\n  </tbody>\n</table>\n</div>"
     },
     "metadata": {},
     "execution_count": 12
    }
   ],
   "source": [
    "df.head()"
   ]
  },
  {
   "cell_type": "code",
   "execution_count": 13,
   "metadata": {},
   "outputs": [],
   "source": [
    "for col in [\"f1\", \"f2\", \"f4\", \"f6\"]:\n",
    "    df[col] = df[col].astype(int)"
   ]
  },
  {
   "cell_type": "code",
   "execution_count": 14,
   "metadata": {},
   "outputs": [
    {
     "output_type": "stream",
     "name": "stdout",
     "text": "<class 'pandas.core.frame.DataFrame'>\nRangeIndex: 31 entries, 0 to 30\nData columns (total 12 columns):\n #   Column     Non-Null Count  Dtype  \n---  ------     --------------  -----  \n 0   id         31 non-null     int64  \n 1   sessionID  31 non-null     object \n 2   f1         31 non-null     int64  \n 3   f2         31 non-null     int64  \n 4   f4         31 non-null     int64  \n 5   f5         31 non-null     object \n 6   f6         31 non-null     int64  \n 7   f3_1       31 non-null     int64  \n 8   f3_2       31 non-null     int64  \n 9   f3_3       24 non-null     float64\n 10  date       31 non-null     object \n 11  time       31 non-null     object \ndtypes: float64(1), int64(7), object(4)\nmemory usage: 3.0+ KB\n"
    }
   ],
   "source": [
    "df.info()"
   ]
  },
  {
   "cell_type": "code",
   "execution_count": 15,
   "metadata": {},
   "outputs": [],
   "source": [
    "def col_percent_single(data, label_dict):\n",
    "    prep = data.replace(label_dict).value_counts().dropna()\n",
    "    calculation = prep.apply(lambda x: int(x/data.shape[0]*100))\n",
    "    return [calculation.index.to_list(), [int(value) for value in calculation.values], [int(value) for value in prep.values], data.shape[0]]"
   ]
  },
  {
   "cell_type": "code",
   "execution_count": 16,
   "metadata": {},
   "outputs": [],
   "source": [
    "def col_percent_multi(data,label_dict):\n",
    "    n = data.shape[0]\n",
    "    prep = data.replace(label_dict).melt().value.dropna().value_counts()\n",
    "    calculation = prep.apply(lambda x: int(x/n*100))\n",
    "    return [calculation.index.to_list(), list(calculation.values), list(prep.values), n]"
   ]
  },
  {
   "cell_type": "code",
   "execution_count": 17,
   "metadata": {},
   "outputs": [],
   "source": [
    "f1_dict = {\n",
    "    1: \"männlich\", \n",
    "    0: \"weiblich\", \n",
    "    2: \"divers\"}\n",
    "f2_dict = {\n",
    "    0: \"18 bis 20 Jahre\", \n",
    "    1: \"21 bis 25 Jahre\", \n",
    "    2: \"26 bis 30 Jahre\", \n",
    "    3: \"älter als 30 Jahre\"}\n",
    "f3_dict = {\n",
    "    0: \"Wissenschaft\", \n",
    "    1: \"Medizin\", \n",
    "    2: \"Arbeit\",\n",
    "    3: \"Privater Alltag\", \n",
    "    4: \"Shopping\",\n",
    "    5: \"Öffentlicher Nahverkehr\",\n",
    "    6: \"Sicherheit\",\n",
    "    7: \"Finanzen\",\n",
    "    8: \"Gesundheit & Fitness\",\n",
    "    9: \"Anderer Bereich\"}\n",
    "f4_dict = {\n",
    "    0: \"Uni\",\n",
    "    1: \"Arbeit\",\n",
    "    2: \"Medizin\",\n",
    "    3: \"Privater Alltag\",\n",
    "    4: \"Shopping\",\n",
    "    5: \"Öffentlicher Nahverkehr\",\n",
    "    6: \"Sicherheit\",\n",
    "    7: \"Finanzen\",\n",
    "    8: \"Gesundheit & Fitness\"}\n",
    "f6_dict = {\n",
    "    0: \"benötigen mehr KI\",\n",
    "    1: \"AI/KI nur Buzzwort\",\n",
    "    2: \"Davon gibts schon genug!\"}"
   ]
  },
  {
   "cell_type": "code",
   "execution_count": 18,
   "metadata": {},
   "outputs": [
    {
     "output_type": "execute_result",
     "data": {
      "text/plain": "[[['männlich', 'weiblich'], [54, 45], [17, 14], 31],\n [['älter als 30 Jahre', '21 bis 25 Jahre', '26 bis 30 Jahre'],\n  [74, 12, 12],\n  [23, 4, 4],\n  31],\n [['Arbeit',\n   'Öffentlicher Nahverkehr',\n   'Medizin',\n   'Privater Alltag',\n   'Sicherheit',\n   'Gesundheit & Fitness',\n   'Shopping',\n   'Finanzen',\n   'Uni'],\n  [38, 12, 12, 9, 6, 6, 6, 3, 3],\n  [12, 4, 4, 3, 2, 2, 2, 1, 1],\n  31],\n [['benötigen mehr KI', 'AI/KI nur Buzzwort', 'Davon gibts schon genug!'],\n  [54, 32, 12],\n  [17, 10, 4],\n  31]]"
     },
     "metadata": {},
     "execution_count": 18
    }
   ],
   "source": [
    "singles = [col_percent_single(df[\"f1\"].astype(int), f1_dict), col_percent_single(df[\"f2\"].astype(int), f2_dict), col_percent_single(df[\"f4\"].astype(int), f4_dict), col_percent_single(df[\"f6\"].astype(int), f6_dict)]\n",
    "singles"
   ]
  },
  {
   "cell_type": "code",
   "execution_count": 19,
   "metadata": {},
   "outputs": [
    {
     "output_type": "execute_result",
     "data": {
      "text/plain": "True"
     },
     "metadata": {},
     "execution_count": 19
    }
   ],
   "source": [
    "isinstance(singles[0][1][0], int)"
   ]
  },
  {
   "cell_type": "code",
   "execution_count": 20,
   "metadata": {},
   "outputs": [],
   "source": [
    "multies = [col_percent_multi(df.loc[:, [col for col in df.columns if \"f3\" in col]], f3_dict)]"
   ]
  },
  {
   "cell_type": "code",
   "execution_count": 21,
   "metadata": {},
   "outputs": [
    {
     "output_type": "execute_result",
     "data": {
      "text/plain": "Wissenschaft               20\nMedizin                    17\nArbeit                     16\nÖffentlicher Nahverkehr    11\nSicherheit                 10\nPrivater Alltag             5\nFinanzen                    3\nGesundheit & Fitness        2\nShopping                    2\nName: value, dtype: int64"
     },
     "metadata": {},
     "execution_count": 21
    }
   ],
   "source": [
    "df.loc[:, [col for col in df.columns if \"f3\" in col]].replace(f3_dict).melt().value.dropna().value_counts()"
   ]
  },
  {
   "cell_type": "code",
   "execution_count": 84,
   "metadata": {},
   "outputs": [],
   "source": [
    "#np.ones(df.shape, dtype=bool)"
   ]
  },
  {
   "cell_type": "code",
   "execution_count": 86,
   "metadata": {},
   "outputs": [],
   "source": [
    "def col_percent_single(data, label_dict):\n",
    "    \"\"\"\n",
    "    Function to calculate column percentage of a single-answer-type question\n",
    "\n",
    "    args -\n",
    "    data: pandas series\n",
    "    label_dict: dictionary with value labels\n",
    "\n",
    "    returns: list-like [groupnames, percent, groupsize, total_n]\n",
    "    \"\"\"\n",
    "\n",
    "    prep = data.replace(label_dict).value_counts().dropna()\n",
    "    calculation = prep.apply(lambda x: int(x/data.shape[0]*100))\n",
    "    \n",
    "    return [calculation.index.to_list(), [int(value) for value in calculation.values], ['group n = ' + str(value) for value in prep.values], data.shape[0]]\n",
    "\n",
    "def col_percent_multi(data, label_dict):\n",
    "    \"\"\"\n",
    "    function to calculate colum percentage of a multi-answer-type-question.\n",
    "\n",
    "    args -\n",
    "    data: pandas df\n",
    "    label_dict: dictionary with value labels\n",
    "\n",
    "    returns: list-like [groupnames, percent, total_answers_per_option, total_n (of participants)]\n",
    "    \"\"\"\n",
    "\n",
    "    n = data.shape[0]\n",
    "    prep = data.replace(label_dict).melt().value.dropna().value_counts()\n",
    "    calculation = prep.apply(lambda x: int(x/n*100))\n",
    "    \n",
    "    return [calculation.index.to_list(), [int(value) for value in calculation.values], ['group n = ' + str(value) for value in prep.values], n]\n"
   ]
  },
  {
   "cell_type": "code",
   "execution_count": 98,
   "metadata": {},
   "outputs": [],
   "source": [
    "def calculate_splits(question, split):\n",
    "    \"\"\"\n",
    "    function to calculate market research column percentages for filtered groups.\n",
    "\n",
    "    args - \n",
    "    - question: list-like --> [question, label dictionairy]\n",
    "    - filter: list-like --> [question, label_dictionairy]\n",
    "\n",
    "    returns -\n",
    "    list-like --> [labels of items, values, group n, total n, labels of splits]\n",
    "    \"\"\"\n",
    "    prep = pd.crosstab(split[0].replace(split[1]), question[0].replace(question[1]))\n",
    "    calculation = prep.apply(lambda r: (r/r.sum()*100), axis = 1).astype(int)\n",
    "\n",
    "    int_converted = []\n",
    "    for _, row in calculation.iterrows():\n",
    "        int_converted.append([int(entry) for entry in row])\n",
    "\n",
    "    int_group_n = [\"group n = \" + str(entry) for entry in prep.sum(axis = 1)]\n",
    "\n",
    "    return [calculation.columns.to_list(), int_converted, int_group_n, question[0].shape[0], calculation.index.to_list()]"
   ]
  },
  {
   "cell_type": "code",
   "execution_count": 112,
   "metadata": {},
   "outputs": [],
   "source": [
    "def calculate_split_multi(question, split):\n",
    "    \"\"\"\n",
    "    function to calculate market research column percentages for filtered groups of multi answer questions.\n",
    "\n",
    "    args - \n",
    "    - question: list-like --> [question Dataframe (e.g. all columns for question), label dictionairy]\n",
    "    - filter: list-like --> [question, label_dictionairy]\n",
    "\n",
    "    returns -\n",
    "    list-like --> [labels of items, values, group n, total n, labels of splits]\n",
    "    \"\"\"\n",
    "    merged = pd.concat([question[0].replace(question[1]), split[0].replace(split[1])], axis = 1)\n",
    "    splitCol = merged.columns[-1]\n",
    "\n",
    "    melt = merged.melt(id_vars = splitCol)\n",
    "\n",
    "    prep = pd.crosstab(melt[splitCol], melt[\"value\"])\n",
    "    calculation = prep.apply(lambda r: (r/r.sum()*100), axis = 1).astype(int)\n",
    "\n",
    "    int_converted = []\n",
    "    for _, row in calculation.iterrows():\n",
    "        int_converted.append([int(entry) for entry in row])\n",
    "\n",
    "    int_group_n = [\"group n = \" + str(entry) for entry in prep.sum(axis = 1)]\n",
    "\n",
    "    return [calculation.columns.to_list(), int_converted, int_group_n, question[0].shape[0], calculation.index.to_list()]"
   ]
  },
  {
   "cell_type": "code",
   "execution_count": 108,
   "metadata": {},
   "outputs": [
    {
     "output_type": "execute_result",
     "data": {
      "text/plain": "[['Arbeit',\n  'Finanzen',\n  'Gesundheit & Fitness',\n  'Medizin',\n  'Privater Alltag',\n  'Shopping',\n  'Sicherheit',\n  'Uni',\n  'Öffentlicher Nahverkehr'],\n [[41, 5, 0, 17, 0, 5, 5, 5, 17], [35, 0, 14, 7, 21, 7, 7, 0, 7]],\n ['group n = 17', 'group n = 14'],\n 31,\n ['männlich', 'weiblich']]"
     },
     "metadata": {},
     "execution_count": 108
    }
   ],
   "source": [
    "calculate_splits([df[\"f4\"], f4_dict], [df[\"f1\"], f1_dict])"
   ]
  },
  {
   "cell_type": "code",
   "execution_count": 114,
   "metadata": {},
   "outputs": [
    {
     "output_type": "execute_result",
     "data": {
      "text/plain": "[['Arbeit',\n  'Finanzen',\n  'Gesundheit & Fitness',\n  'Medizin',\n  'Privater Alltag',\n  'Shopping',\n  'Sicherheit',\n  'Wissenschaft',\n  'Öffentlicher Nahverkehr'],\n [[11, 0, 0, 22, 22, 0, 11, 33, 0],\n  [25, 0, 3, 17, 3, 0, 17, 17, 14],\n  [16, 6, 2, 20, 4, 4, 8, 24, 14]],\n ['group n = 9', 'group n = 28', 'group n = 49'],\n 31,\n ['divers', 'männlich', 'weiblich']]"
     },
     "metadata": {},
     "execution_count": 114
    }
   ],
   "source": [
    "calculate_split_multi([df.loc[:, [col for col in df.columns if \"f3\" in col]], f3_dict], [df[\"f6\"], f1_dict])"
   ]
  },
  {
   "cell_type": "code",
   "execution_count": null,
   "metadata": {},
   "outputs": [],
   "source": []
  }
 ],
 "metadata": {
  "language_info": {
   "codemirror_mode": {
    "name": "ipython",
    "version": 3
   },
   "file_extension": ".py",
   "mimetype": "text/x-python",
   "name": "python",
   "nbconvert_exporter": "python",
   "pygments_lexer": "ipython3",
   "version": "3.7.3-final"
  },
  "orig_nbformat": 2,
  "kernelspec": {
   "name": "python37364bituniversityjobdaypipenvf1dc3322a5c5433ebf5240b989c03708",
   "display_name": "Python 3.7.3 64-bit ('universityJobDay': pipenv)"
  }
 },
 "nbformat": 4,
 "nbformat_minor": 2
}