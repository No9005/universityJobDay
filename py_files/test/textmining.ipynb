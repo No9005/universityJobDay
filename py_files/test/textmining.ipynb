{
 "cells": [
  {
   "cell_type": "code",
   "execution_count": 1,
   "metadata": {},
   "outputs": [],
   "source": [
    "import pandas as pd\n",
    "import numpy as np\n",
    "from pathlib import Path\n",
    "\n",
    "import pyLDAvis\n",
    "pyLDAvis.enable_notebook()"
   ]
  },
  {
   "cell_type": "code",
   "execution_count": 2,
   "metadata": {},
   "outputs": [],
   "source": [
    "import sqlite3"
   ]
  },
  {
   "cell_type": "code",
   "execution_count": 3,
   "metadata": {},
   "outputs": [],
   "source": [
    "conn = sqlite3.connect('/var/www/universityJobDay/universityJobDay/database/answers.db')"
   ]
  },
  {
   "cell_type": "code",
   "execution_count": 4,
   "metadata": {},
   "outputs": [
    {
     "data": {
      "text/html": [
       "<div>\n",
       "<style scoped>\n",
       "    .dataframe tbody tr th:only-of-type {\n",
       "        vertical-align: middle;\n",
       "    }\n",
       "\n",
       "    .dataframe tbody tr th {\n",
       "        vertical-align: top;\n",
       "    }\n",
       "\n",
       "    .dataframe thead th {\n",
       "        text-align: right;\n",
       "    }\n",
       "</style>\n",
       "<table border=\"1\" class=\"dataframe\">\n",
       "  <thead>\n",
       "    <tr style=\"text-align: right;\">\n",
       "      <th></th>\n",
       "      <th>id</th>\n",
       "      <th>sessionID</th>\n",
       "      <th>f1</th>\n",
       "      <th>f2</th>\n",
       "      <th>f3</th>\n",
       "      <th>f4</th>\n",
       "      <th>f5</th>\n",
       "      <th>f6</th>\n",
       "      <th>date</th>\n",
       "    </tr>\n",
       "  </thead>\n",
       "  <tbody>\n",
       "    <tr>\n",
       "      <th>0</th>\n",
       "      <td>1</td>\n",
       "      <td>2N01KFSNC2RQIZM</td>\n",
       "      <td>1</td>\n",
       "      <td>3</td>\n",
       "      <td>3~0~2</td>\n",
       "      <td>4</td>\n",
       "      <td>1</td>\n",
       "      <td>1</td>\n",
       "      <td>2020-05-20 05:40:56.670853</td>\n",
       "    </tr>\n",
       "    <tr>\n",
       "      <th>1</th>\n",
       "      <td>2</td>\n",
       "      <td>EO29HHPJT4CYAO2</td>\n",
       "      <td>0</td>\n",
       "      <td>1</td>\n",
       "      <td>3~1</td>\n",
       "      <td>3</td>\n",
       "      <td>Risiko Datenschutz + Privatsphäre</td>\n",
       "      <td>2</td>\n",
       "      <td>2020-05-20 05:46:35.477319</td>\n",
       "    </tr>\n",
       "    <tr>\n",
       "      <th>2</th>\n",
       "      <td>3</td>\n",
       "      <td>2EL8BUZB5J0O873</td>\n",
       "      <td>0</td>\n",
       "      <td>3</td>\n",
       "      <td>6~0</td>\n",
       "      <td>4</td>\n",
       "      <td>Chancen: Sicherheit, Prävention\\nRisiken: der ...</td>\n",
       "      <td>2</td>\n",
       "      <td>2020-05-20 05:53:47.294080</td>\n",
       "    </tr>\n",
       "    <tr>\n",
       "      <th>3</th>\n",
       "      <td>4</td>\n",
       "      <td>C1BRP0FGCG6YSHS</td>\n",
       "      <td>0</td>\n",
       "      <td>3</td>\n",
       "      <td>0~1</td>\n",
       "      <td>2</td>\n",
       "      <td>Chancen: Minimierung von Fehlern\\nRisiken: \"En...</td>\n",
       "      <td>2</td>\n",
       "      <td>2020-05-20 06:13:47.718848</td>\n",
       "    </tr>\n",
       "    <tr>\n",
       "      <th>4</th>\n",
       "      <td>5</td>\n",
       "      <td>CP5VTIEK8FNC22P</td>\n",
       "      <td>1</td>\n",
       "      <td>3</td>\n",
       "      <td>0~2~1</td>\n",
       "      <td>2</td>\n",
       "      <td>Analyse von vielen unstrukturierten und auf de...</td>\n",
       "      <td>0</td>\n",
       "      <td>2020-05-20 06:24:26.482387</td>\n",
       "    </tr>\n",
       "  </tbody>\n",
       "</table>\n",
       "</div>"
      ],
      "text/plain": [
       "   id        sessionID f1 f2     f3 f4  \\\n",
       "0   1  2N01KFSNC2RQIZM  1  3  3~0~2  4   \n",
       "1   2  EO29HHPJT4CYAO2  0  1    3~1  3   \n",
       "2   3  2EL8BUZB5J0O873  0  3    6~0  4   \n",
       "3   4  C1BRP0FGCG6YSHS  0  3    0~1  2   \n",
       "4   5  CP5VTIEK8FNC22P  1  3  0~2~1  2   \n",
       "\n",
       "                                                  f5 f6  \\\n",
       "0                                                  1  1   \n",
       "1                  Risiko Datenschutz + Privatsphäre  2   \n",
       "2  Chancen: Sicherheit, Prävention\\nRisiken: der ...  2   \n",
       "3  Chancen: Minimierung von Fehlern\\nRisiken: \"En...  2   \n",
       "4  Analyse von vielen unstrukturierten und auf de...  0   \n",
       "\n",
       "                         date  \n",
       "0  2020-05-20 05:40:56.670853  \n",
       "1  2020-05-20 05:46:35.477319  \n",
       "2  2020-05-20 05:53:47.294080  \n",
       "3  2020-05-20 06:13:47.718848  \n",
       "4  2020-05-20 06:24:26.482387  "
      ]
     },
     "execution_count": 4,
     "metadata": {},
     "output_type": "execute_result"
    }
   ],
   "source": [
    "df = pd.read_sql_query('SELECT * from answers', conn)\n",
    "conn.close()\n",
    "df.head()"
   ]
  },
  {
   "cell_type": "code",
   "execution_count": 5,
   "metadata": {},
   "outputs": [],
   "source": [
    "text = df[\"f5\"]"
   ]
  },
  {
   "cell_type": "markdown",
   "metadata": {},
   "source": [
    "# Text Preprocessing"
   ]
  },
  {
   "cell_type": "markdown",
   "metadata": {},
   "source": [
    "Document = ein Text <br>\n",
    "Corpus = Kollektion von dokumenten <br>\n",
    "Vector = Mathematische Repräsentation des Dokuments <br>\n",
    "Model = Algorithmus um die Vektoren zu transformieren <br>\n",
    "<br>\n",
    "<br>\n",
    "https://radimrehurek.com/gensim/auto_examples/core/run_core_concepts.html#sphx-glr-auto-examples-core-run-core-concepts-py"
   ]
  },
  {
   "cell_type": "code",
   "execution_count": 6,
   "metadata": {},
   "outputs": [],
   "source": [
    "import spacy\n",
    "import de_core_news_sm\n",
    "from spacy.lang.de.stop_words import STOP_WORDS\n",
    "from spacy.lemmatizer import Lemmatizer"
   ]
  },
  {
   "cell_type": "code",
   "execution_count": 9,
   "metadata": {},
   "outputs": [],
   "source": [
    "# load pre learned model for german text\n",
    "nlp = de_core_news_sm.load()"
   ]
  },
  {
   "cell_type": "code",
   "execution_count": 10,
   "metadata": {},
   "outputs": [
    {
     "data": {
      "text/plain": [
       "'KI könnte den Arbeitsalltag erleichtern, indem Vorgänge automatisiert werden. Aber gerade im Bereich Medizin kann es zu riskant sein, KI einzusetzen, da hier Fehler möglicherweise auf die Gesundheit eines Menschens Einfluss haben könnten.'"
      ]
     },
     "execution_count": 10,
     "metadata": {},
     "output_type": "execute_result"
    }
   ],
   "source": [
    "text[5] # ein Dokument"
   ]
  },
  {
   "cell_type": "code",
   "execution_count": 11,
   "metadata": {},
   "outputs": [],
   "source": [
    "# feed the documents into the nlp objects\n",
    "document_list = [nlp(answer) for answer in text]"
   ]
  },
  {
   "cell_type": "code",
   "execution_count": 12,
   "metadata": {},
   "outputs": [],
   "source": [
    "# delete stop words\n",
    "without_stop_words = []\n",
    "for doc in document_list:\n",
    "    without_stop_words.append([token for token in doc if token.is_stop != True])"
   ]
  },
  {
   "cell_type": "code",
   "execution_count": 13,
   "metadata": {},
   "outputs": [],
   "source": [
    "# lemmatizing\n",
    "lemma_list = []\n",
    "for doc in without_stop_words:\n",
    "    lemma_list.append([token.lemma_ for token in doc])"
   ]
  },
  {
   "cell_type": "code",
   "execution_count": 14,
   "metadata": {},
   "outputs": [
    {
     "data": {
      "text/plain": [
       "[['1'],\n",
       " ['Risiko', 'Datenschutz', '+', 'Privatsphäre'],\n",
       " ['Chance',\n",
       "  ':',\n",
       "  'Sicherheit',\n",
       "  ',',\n",
       "  'Prävention',\n",
       "  '\\n',\n",
       "  'Risiko',\n",
       "  ':',\n",
       "  'Mensch',\n",
       "  'Hirn',\n",
       "  'benutzen',\n",
       "  '-',\n",
       "  'Autofahren',\n",
       "  ':',\n",
       "  'KI',\n",
       "  'übernehmen',\n",
       "  'Routenführung',\n",
       "  ',',\n",
       "  'Einparken',\n",
       "  'etc.',\n",
       "  'System',\n",
       "  'ausfällen',\n",
       "  'hinterher',\n",
       "  'handlungsunfähig']]"
      ]
     },
     "execution_count": 14,
     "metadata": {},
     "output_type": "execute_result"
    }
   ],
   "source": [
    "lemma_list[:3] # no lda possible without further cleaning"
   ]
  },
  {
   "cell_type": "code",
   "execution_count": 15,
   "metadata": {},
   "outputs": [],
   "source": [
    "# expressions to be cleaned\n",
    "expressions = [\":\", \"-\", \"(\", \")\", \"\\n\", \"\\n\\n\", \"?\", \":\",\"\\'\", '\\\"', \".\", \",\", \"'s\", \"...\", \"&\", \"+\", \"1\", \"2\", \"3\", \"4\", \"5\", \"6\", \"7\", \"8\", \"9\", \";-)\", \" \", \";\", \"/\", \"z.\", \"b.\"]\n",
    "\n",
    "# acutal cleaning\n",
    "cleaned_lemma = []\n",
    "for doc in lemma_list:\n",
    "    cleaned_lemma.append([token for token in doc if token not in expressions])"
   ]
  },
  {
   "cell_type": "code",
   "execution_count": 16,
   "metadata": {},
   "outputs": [],
   "source": [
    "#cleaned_lemma[20:]"
   ]
  },
  {
   "cell_type": "code",
   "execution_count": 17,
   "metadata": {},
   "outputs": [],
   "source": [
    "# convert text to lowercase\n",
    "low = []\n",
    "for doc in cleaned_lemma:\n",
    "    low.append([token.lower() for token in doc])"
   ]
  },
  {
   "cell_type": "code",
   "execution_count": 18,
   "metadata": {},
   "outputs": [],
   "source": [
    "# terminate empty cells or 1-word cells\n",
    "final = []\n",
    "text_list = []\n",
    "for doc, t in zip(low, text):\n",
    "    if len(doc)>1:\n",
    "        final.append(doc)\n",
    "        text_list.append(t)"
   ]
  },
  {
   "cell_type": "code",
   "execution_count": 19,
   "metadata": {},
   "outputs": [],
   "source": [
    "# due to the fact that we asked about risks and chances, clean also these two words (else every topic will have these two words in it --> no information value)\n",
    "final2 = []\n",
    "for doc in final:\n",
    "    final2.append([token for token in doc if token not in [\"risiko\", \"chance\", \"ki\"]])"
   ]
  },
  {
   "cell_type": "code",
   "execution_count": 20,
   "metadata": {},
   "outputs": [
    {
     "name": "stdout",
     "output_type": "stream",
     "text": [
      "original Text Length:  (32,)\n",
      "final2 length:  29\n",
      "new original text (without empty and 1-words):  29\n"
     ]
    }
   ],
   "source": [
    "# check length of all arrays:\n",
    "print(\"original Text Length: \", text.shape)\n",
    "print(\"final2 length: \", len(final2))\n",
    "print(\"new original text (without empty and 1-words): \", len(text_list))"
   ]
  },
  {
   "cell_type": "code",
   "execution_count": 21,
   "metadata": {},
   "outputs": [
    {
     "data": {
      "text/plain": [
       "[['datenschutz', 'privatsphäre'],\n",
       " ['sicherheit',\n",
       "  'prävention',\n",
       "  'mensch',\n",
       "  'hirn',\n",
       "  'benutzen',\n",
       "  'autofahren',\n",
       "  'übernehmen',\n",
       "  'routenführung',\n",
       "  'einparken',\n",
       "  'etc.',\n",
       "  'system',\n",
       "  'ausfällen',\n",
       "  'hinterher',\n",
       "  'handlungsunfähig'],\n",
       " ['minimierung', 'fehler', 'entmenschlichung', 'prozeß', 'jobverluste']]"
      ]
     },
     "execution_count": 21,
     "metadata": {},
     "output_type": "execute_result"
    }
   ],
   "source": [
    "final2[:3]"
   ]
  },
  {
   "cell_type": "markdown",
   "metadata": {},
   "source": [
    "## Gensim approach"
   ]
  },
  {
   "cell_type": "code",
   "execution_count": 22,
   "metadata": {},
   "outputs": [
    {
     "name": "stderr",
     "output_type": "stream",
     "text": [
      "/var/www/universityJobDay/universityJobDay/.venv/lib/python3.7/site-packages/scipy/sparse/sparsetools.py:21: DeprecationWarning: `scipy.sparse.sparsetools` is deprecated!\n",
      "scipy.sparse.sparsetools is a private module for scipy.sparse, and should not be used.\n",
      "  _deprecated()\n"
     ]
    }
   ],
   "source": [
    "from gensim import corpora as corp\n",
    "import gensim\n",
    "import pyLDAvis.gensim"
   ]
  },
  {
   "cell_type": "code",
   "execution_count": 23,
   "metadata": {},
   "outputs": [],
   "source": [
    "# define ngrams\n",
    "bigram = gensim.models.Phrases(final2, min_count = 5, threshold =10)\n",
    "bigram_mod = gensim.models.phrases.Phraser(bigram)\n",
    "\n",
    "# build ngrams\n",
    "ngrams = [bigram_mod[doc] for doc in final2]"
   ]
  },
  {
   "cell_type": "code",
   "execution_count": 24,
   "metadata": {},
   "outputs": [],
   "source": [
    "# check ngrams\n",
    "#ngrams"
   ]
  },
  {
   "cell_type": "code",
   "execution_count": 25,
   "metadata": {},
   "outputs": [
    {
     "name": "stdout",
     "output_type": "stream",
     "text": [
      "Dictionary(267 unique tokens: ['datenschutz', 'privatsphäre', 'ausfällen', 'autofahren', 'benutzen']...)\n"
     ]
    }
   ],
   "source": [
    "# build dictionary\n",
    "dictionary = corp.Dictionary(ngrams)\n",
    "print(dictionary)"
   ]
  },
  {
   "cell_type": "code",
   "execution_count": 26,
   "metadata": {},
   "outputs": [],
   "source": [
    "#[dictionary.token2id] # jedes unique wort bekommt eine nummer"
   ]
  },
  {
   "cell_type": "code",
   "execution_count": 27,
   "metadata": {},
   "outputs": [],
   "source": [
    "# Vektorisieren --> bags of words\n",
    "bow_corpus_gensim = [dictionary.doc2bow(doc) for doc in ngrams]"
   ]
  },
  {
   "cell_type": "code",
   "execution_count": 28,
   "metadata": {},
   "outputs": [
    {
     "data": {
      "text/html": [
       "\n",
       "<link rel=\"stylesheet\" type=\"text/css\" href=\"https://cdn.rawgit.com/bmabey/pyLDAvis/files/ldavis.v1.0.0.css\">\n",
       "\n",
       "\n",
       "<div id=\"ldavis_el32801397599508756484441866764\"></div>\n",
       "<script type=\"text/javascript\">\n",
       "\n",
       "var ldavis_el32801397599508756484441866764_data = {\"mdsDat\": {\"x\": [0.06915631461287812, -0.05282383084478637, -0.016332483768091766], \"y\": [-0.015061573165324737, -0.03528496190958656, 0.0503465350749113], \"topics\": [1, 2, 3], \"cluster\": [1, 1, 1], \"Freq\": [43.21877670288086, 30.022174835205078, 26.759052276611328]}, \"tinfo\": {\"Term\": [\"pers\\u00f6nlich\", \"sehen\", \"vermeidung\", \"datenschutz\", \"arbeit\", \"aktuell\", \"menschlich\", \"schnelligkeit\", \"l\\u00e4stig\", \"auswirkung\", \"routineaufgaben\", \"entlastung\", \"entsprechend\", \"verlust\", \"arbeitswelt\", \"umstrukturierung\", \"passieren\", \"box\", \"black\", \"komfort\", \"kurz\", \"alltag\", \"m\\u00f6glichkeit\", \"missbrauchen\", \"vereinfacht\", \"entdecken\", \"zusammenhang\", \"keinerlei\", \"fahren\", \"genau\", \"vereinfachen\", \"generell\", \"menschliche\", \"bestimmen\", \"vertrauen\", \"fortschritt\", \"geben\", \"konsequenz\", \"l\\u00f6sen\", \"llund\", \"entziehen\", \"strafverfolgung\", \"etc\", \"totale\", \"verdr\\u00e4ngung\", \"umweltkrisen\", \"gefahrenanf\\u00e4llig\", \"versorgungsl\\u00fccken\", \"weitreichend\", \"passt\", \"fr\\u00fcherkennung\", \"soziale\", \"arbeitsmarkt\", \"\\u00e4rztlich\", \"k\\u00e4lte\", \"abschaffung\", \"vllt\", \"b.\", \"hand\", \"normal\", \"proze\\u00df\", \"datum\", \"t\\u00e4tigkeit\", \"\\u00fcberwachung\", \"gut\", \"mensch\", \"maschine\", \"automatisieren\", \"problem\", \"kontrolle\", \"medizin\", \"bereich\", \"arbeit\", \"fehler\", \"l\\u00f6sung\", \"gl\\u00e4serne\", \"privatsph\\u00e4re\", \"krankheit\", \"schnell\", \"nutzen\", \"zum beispiel\", \"k\\u00f6nnen\", \"gefahr\", \"pers\\u00f6nlich\", \"l\\u00e4stig\", \"auswirkung\", \"routineaufgaben\", \"entlastung\", \"entsprechend\", \"verlust\", \"arbeitswelt\", \"umstrukturierung\", \"passieren\", \"box\", \"black\", \"komfort\", \"kurz\", \"aktuell\", \"m\\u00f6glichkeit\", \"missbrauchen\", \"vereinfacht\", \"entdecken\", \"zusammenhang\", \"keinerlei\", \"fahren\", \"genau\", \"verstehem\", \"meinung\", \"leben\", \"sehen\", \"einerseits\", \"daten-gl\\u00e4ubigkeit\", \"getrennt\", \"fehler\", \"schnelligkeit\", \"mensch\", \"verselbstst\\u00e4ndigung\", \"gut\", \"arbeitspl\\u00e4tzen\", \"system\", \"l\\u00f6sung\", \"gefahr\", \"vermeidung\", \"datenschutz\", \"individuell\", \"abgabe\", \"entstehen\", \"erleichterung\", \"angebot\", \"routinearbeiten\", \"fleck\", \"hinterfragen\", \"objektivierung\", \"wei\\u00dfe\", \"vereinfachung\", \"produkt\", \"umsetzung\", \"verl\\u00e4sst\", \"individualisierung\", \"bringen\", \"zustand\", \"fehlverhalten\", \"spa\\u00df\", \"eher\", \"dienstleistungen\", \"black-box\", \"sch\\u00f6n\", \"funktionieren\", \"abdecken\", \"ethik\", \"qualitytime\", \"betrinken\", \"arbeit\", \"alltag\", \"menschlich\", \"einsetzen\", \"mensch\", \"kontrolle\", \"entscheidung\", \"sehen\", \"k\\u00f6nnen\", \"automatisieren\", \"proze\\u00df\", \"datenmengen\", \"maschine\", \"t\\u00e4tigkeit\", \"\\u00fcberwachung\", \"schnell\"], \"Freq\": [2.0, 2.0, 1.0, 1.0, 2.0, 1.0, 1.0, 1.0, 1.0, 1.0, 1.0, 1.0, 1.0, 1.0, 1.0, 1.0, 1.0, 1.0, 1.0, 1.0, 1.0, 1.0, 1.0, 1.0, 1.0, 1.0, 1.0, 1.0, 1.0, 1.0, 1.4441027641296387, 1.3571701049804688, 1.3058042526245117, 1.299877405166626, 1.2970389127731323, 1.2698694467544556, 0.8434814214706421, 0.8423938751220703, 0.8422284126281738, 0.8421178460121155, 0.8420002460479736, 0.8416875004768372, 0.8415859937667847, 0.8413988947868347, 0.8405877351760864, 0.840607225894928, 0.8401676416397095, 0.8401489853858948, 0.8400250673294067, 0.8398168087005615, 0.8396139144897461, 0.8393575549125671, 0.839388906955719, 0.8391141891479492, 0.8393403887748718, 0.8382166028022766, 0.8382790088653564, 0.838354229927063, 0.8381593227386475, 0.8380222916603088, 1.8827378749847412, 1.1574363708496094, 1.4433367252349854, 1.7142670154571533, 1.445672869682312, 2.482288360595703, 1.5410542488098145, 1.4792895317077637, 1.0403012037277222, 1.1323515176773071, 1.1113383769989014, 1.0951931476593018, 1.1308785676956177, 1.1483234167099, 0.9913966059684753, 0.8773861527442932, 0.8602020740509033, 0.8576430678367615, 0.8455320596694946, 0.8456789255142212, 0.8455318808555603, 0.8469501733779907, 0.8450623750686646, 1.717432975769043, 0.7973120212554932, 0.7967687249183655, 0.7963447570800781, 0.796316385269165, 0.7956483960151672, 0.7952234745025635, 0.793656051158905, 0.7934781908988953, 0.7902248501777649, 0.7883709669113159, 0.787759006023407, 0.7863628268241882, 0.7846904993057251, 1.1489756107330322, 0.7834265828132629, 0.7832208871841431, 0.7831119298934937, 0.782689094543457, 0.7818771600723267, 0.7808550000190735, 0.7805406451225281, 0.7803632020950317, 0.779334306716919, 0.777380108833313, 0.7747756838798523, 1.6562467813491821, 0.6607344150543213, 0.6566587686538696, 0.6521228551864624, 1.124150037765503, 0.7984275817871094, 1.3570891618728638, 0.8021200299263, 0.8189131021499634, 0.798976719379425, 0.7986069321632385, 0.8054080009460449, 0.7874543070793152, 1.0265792608261108, 1.0082648992538452, 0.5897305011749268, 0.5897221565246582, 0.5896182060241699, 0.5895088911056519, 0.5894389748573303, 0.5894249081611633, 0.5893959999084473, 0.5892794132232666, 0.5892592668533325, 0.5891773700714111, 0.5891789793968201, 0.5890561938285828, 0.5890331864356995, 0.5889819264411926, 0.588953971862793, 0.5888226628303528, 0.5886329412460327, 0.5883963704109192, 0.5884022116661072, 0.5883637070655823, 0.5883448123931885, 0.5882368087768555, 0.5881326198577881, 0.5881260633468628, 0.58807373046875, 0.588053286075592, 0.5880166888237, 0.5878639221191406, 1.2752012014389038, 0.8189324736595154, 0.8094444870948792, 0.7517478466033936, 1.2624458074569702, 0.830592155456543, 0.6936174035072327, 0.8346969485282898, 0.7680598497390747, 0.7492998838424683, 0.7455309629440308, 0.6518940925598145, 0.6949766278266907, 0.6110473275184631, 0.5954128503799438, 0.5908010005950928], \"Total\": [2.0, 2.0, 1.0, 1.0, 2.0, 1.0, 1.0, 1.0, 1.0, 1.0, 1.0, 1.0, 1.0, 1.0, 1.0, 1.0, 1.0, 1.0, 1.0, 1.0, 1.0, 1.0, 1.0, 1.0, 1.0, 1.0, 1.0, 1.0, 1.0, 1.0, 1.8250213861465454, 1.7999811172485352, 1.7815349102020264, 1.7786577939987183, 1.7812556028366089, 1.7706660032272339, 1.1955859661102295, 1.1954891681671143, 1.1955134868621826, 1.1953907012939453, 1.1954302787780762, 1.1954913139343262, 1.1953483819961548, 1.1952884197235107, 1.195180058479309, 1.1952799558639526, 1.1950452327728271, 1.1953095197677612, 1.1953235864639282, 1.1950539350509644, 1.1950362920761108, 1.1948977708816528, 1.1951115131378174, 1.1949152946472168, 1.195253849029541, 1.1945971250534058, 1.1947605609893799, 1.1949089765548706, 1.1947815418243408, 1.194609522819519, 2.8461427688598633, 1.735740303993225, 2.268411874771118, 2.889866828918457, 2.4265682697296143, 5.101823329925537, 2.8454267978668213, 2.8229823112487793, 1.7017602920532227, 2.174266815185547, 2.26271653175354, 2.2590746879577637, 2.618985652923584, 2.8614614009857178, 2.286569595336914, 1.6562087535858154, 1.6547249555587769, 1.7952401638031006, 1.641816258430481, 1.7575063705444336, 1.7434324026107788, 2.1808114051818848, 1.7931785583496094, 2.295724868774414, 1.1614370346069336, 1.1615378856658936, 1.1613821983337402, 1.1614952087402344, 1.1613023281097412, 1.1615142822265625, 1.160919189453125, 1.1613271236419678, 1.1608283519744873, 1.1602017879486084, 1.1603331565856934, 1.1596219539642334, 1.160309076309204, 1.6997058391571045, 1.1601938009262085, 1.1601613759994507, 1.1601938009262085, 1.1604347229003906, 1.1600539684295654, 1.1593365669250488, 1.1596571207046509, 1.1595078706741333, 1.159708023071289, 1.1604543924331665, 1.158203363418579, 2.7254374027252197, 1.1259419918060303, 1.124894380569458, 1.1238839626312256, 2.8614614009857178, 1.6085779666900635, 5.101823329925537, 1.7951602935791016, 2.4265682697296143, 1.795300006866455, 1.7864655256271362, 2.286569595336914, 1.7931785583496094, 1.4545398950576782, 1.4617242813110352, 1.0066921710968018, 1.0066972970962524, 1.006742238998413, 1.006807804107666, 1.0067839622497559, 1.006791591644287, 1.006801724433899, 1.0068817138671875, 1.0068769454956055, 1.0068825483322144, 1.0069389343261719, 1.0069079399108887, 1.0069711208343506, 1.0069822072982788, 1.00697660446167, 1.007070541381836, 1.0071007013320923, 1.0072026252746582, 1.0072264671325684, 1.0072189569473267, 1.0072046518325806, 1.0072767734527588, 1.007326602935791, 1.0073246955871582, 1.007319450378418, 1.0073381662368774, 1.0073260068893433, 1.007451057434082, 2.618985652923584, 1.5437119007110596, 1.530886173248291, 1.5715771913528442, 5.101823329925537, 2.174266815185547, 1.5972654819488525, 2.7254374027252197, 2.1808114051818848, 2.8229823112487793, 2.8461427688598633, 1.613527774810791, 2.8454267978668213, 2.268411874771118, 2.889866828918457, 1.641816258430481], \"Category\": [\"Default\", \"Default\", \"Default\", \"Default\", \"Default\", \"Default\", \"Default\", \"Default\", \"Default\", \"Default\", \"Default\", \"Default\", \"Default\", \"Default\", \"Default\", \"Default\", \"Default\", \"Default\", \"Default\", \"Default\", \"Default\", \"Default\", \"Default\", \"Default\", \"Default\", \"Default\", \"Default\", \"Default\", \"Default\", \"Default\", \"Topic1\", \"Topic1\", \"Topic1\", \"Topic1\", \"Topic1\", \"Topic1\", \"Topic1\", \"Topic1\", \"Topic1\", \"Topic1\", \"Topic1\", \"Topic1\", \"Topic1\", \"Topic1\", \"Topic1\", \"Topic1\", \"Topic1\", \"Topic1\", \"Topic1\", \"Topic1\", \"Topic1\", \"Topic1\", \"Topic1\", \"Topic1\", \"Topic1\", \"Topic1\", \"Topic1\", \"Topic1\", \"Topic1\", \"Topic1\", \"Topic1\", \"Topic1\", \"Topic1\", \"Topic1\", \"Topic1\", \"Topic1\", \"Topic1\", \"Topic1\", \"Topic1\", \"Topic1\", \"Topic1\", \"Topic1\", \"Topic1\", \"Topic1\", \"Topic1\", \"Topic1\", \"Topic1\", \"Topic1\", \"Topic1\", \"Topic1\", \"Topic1\", \"Topic1\", \"Topic1\", \"Topic2\", \"Topic2\", \"Topic2\", \"Topic2\", \"Topic2\", \"Topic2\", \"Topic2\", \"Topic2\", \"Topic2\", \"Topic2\", \"Topic2\", \"Topic2\", \"Topic2\", \"Topic2\", \"Topic2\", \"Topic2\", \"Topic2\", \"Topic2\", \"Topic2\", \"Topic2\", \"Topic2\", \"Topic2\", \"Topic2\", \"Topic2\", \"Topic2\", \"Topic2\", \"Topic2\", \"Topic2\", \"Topic2\", \"Topic2\", \"Topic2\", \"Topic2\", \"Topic2\", \"Topic2\", \"Topic2\", \"Topic2\", \"Topic2\", \"Topic2\", \"Topic2\", \"Topic3\", \"Topic3\", \"Topic3\", \"Topic3\", \"Topic3\", \"Topic3\", \"Topic3\", \"Topic3\", \"Topic3\", \"Topic3\", \"Topic3\", \"Topic3\", \"Topic3\", \"Topic3\", \"Topic3\", \"Topic3\", \"Topic3\", \"Topic3\", \"Topic3\", \"Topic3\", \"Topic3\", \"Topic3\", \"Topic3\", \"Topic3\", \"Topic3\", \"Topic3\", \"Topic3\", \"Topic3\", \"Topic3\", \"Topic3\", \"Topic3\", \"Topic3\", \"Topic3\", \"Topic3\", \"Topic3\", \"Topic3\", \"Topic3\", \"Topic3\", \"Topic3\", \"Topic3\", \"Topic3\", \"Topic3\", \"Topic3\", \"Topic3\", \"Topic3\", \"Topic3\"], \"logprob\": [30.0, 29.0, 28.0, 27.0, 26.0, 25.0, 24.0, 23.0, 22.0, 21.0, 20.0, 19.0, 18.0, 17.0, 16.0, 15.0, 14.0, 13.0, 12.0, 11.0, 10.0, 9.0, 8.0, 7.0, 6.0, 5.0, 4.0, 3.0, 2.0, 1.0, -4.628399848937988, -4.690499782562256, -4.729100227355957, -4.73360013961792, -4.735799789428711, -4.756999969482422, -5.166100025177002, -5.167399883270264, -5.167600154876709, -5.167799949645996, -5.167900085449219, -5.168300151824951, -5.168399810791016, -5.168600082397461, -5.169600009918213, -5.16949987411499, -5.170100212097168, -5.170100212097168, -5.170199871063232, -5.170499801635742, -5.1707000732421875, -5.171000003814697, -5.171000003814697, -5.171299934387207, -5.17110013961792, -5.172399997711182, -5.172299861907959, -5.1722002029418945, -5.172500133514404, -5.172599792480469, -4.3632001876831055, -4.849699974060059, -4.629000186920166, -4.456900119781494, -4.627299785614014, -4.086699962615967, -4.563399791717529, -4.604400157928467, -4.956399917602539, -4.871600151062012, -4.890399932861328, -4.90500020980835, -4.872900009155273, -4.857600212097168, -5.0046000480651855, -5.126699924468994, -5.146500110626221, -5.149499893188477, -5.163700103759766, -5.16349983215332, -5.163700103759766, -5.1620001792907715, -5.164299964904785, -4.090700149536133, -4.858099937438965, -4.858799934387207, -4.859300136566162, -4.859300136566162, -4.860199928283691, -4.8607001304626465, -4.86269998550415, -4.8628997802734375, -4.867000102996826, -4.8694000244140625, -4.870100021362305, -4.8719000816345215, -4.874000072479248, -4.492700099945068, -4.875699996948242, -4.875899791717529, -4.876100063323975, -4.8765997886657715, -4.877600193023682, -4.878900051116943, -4.879300117492676, -4.8796000480651855, -4.880899906158447, -4.883399963378906, -4.8867998123168945, -4.126999855041504, -5.046000003814697, -5.052199840545654, -5.059100151062012, -4.514500141143799, -4.8566999435424805, -4.326200008392334, -4.852099895477295, -4.831399917602539, -4.855999946594238, -4.856500148773193, -4.8480000495910645, -4.870500087738037, -4.490300178527832, -4.508299827575684, -5.044600009918213, -5.044600009918213, -5.0447998046875, -5.045000076293945, -5.045100212097168, -5.045100212097168, -5.045199871063232, -5.045400142669678, -5.045400142669678, -5.045499801635742, -5.045499801635742, -5.0457000732421875, -5.04580020904541, -5.045899868011475, -5.045899868011475, -5.04610013961792, -5.046500205993652, -5.046899795532227, -5.046899795532227, -5.046899795532227, -5.046999931335449, -5.047100067138672, -5.047299861907959, -5.047299861907959, -5.047399997711182, -5.047500133514404, -5.047500133514404, -5.047800064086914, -4.273399829864502, -4.716300010681152, -4.72790002822876, -4.8018999099731445, -4.2835001945495605, -4.702099800109863, -4.882299900054932, -4.697199821472168, -4.780399799346924, -4.805099964141846, -4.810200214385986, -4.944399833679199, -4.88040018081665, -5.009099960327148, -5.034999847412109, -5.042799949645996], \"loglift\": [30.0, 29.0, 28.0, 27.0, 26.0, 25.0, 24.0, 23.0, 22.0, 21.0, 20.0, 19.0, 18.0, 17.0, 16.0, 15.0, 14.0, 13.0, 12.0, 11.0, 10.0, 9.0, 8.0, 7.0, 6.0, 5.0, 4.0, 3.0, 2.0, 1.0, 0.6047999858856201, 0.5565000176429749, 0.5281999707221985, 0.5253000259399414, 0.5217000246047974, 0.5065000057220459, 0.49000000953674316, 0.4887999892234802, 0.4885999858379364, 0.4885999858379364, 0.48840001225471497, 0.4880000054836273, 0.4880000054836273, 0.4878000020980835, 0.4869000017642975, 0.4869000017642975, 0.48660001158714294, 0.486299991607666, 0.4862000048160553, 0.4860999882221222, 0.48590001463890076, 0.48570001125335693, 0.48559999465942383, 0.48539999127388, 0.48539999127388, 0.4846000075340271, 0.484499990940094, 0.484499990940094, 0.4844000041484833, 0.4844000041484833, 0.42570000886917114, 0.43369999527931213, 0.38679999113082886, 0.3167000114917755, 0.32100000977516174, 0.1185000017285347, 0.225600004196167, 0.19269999861717224, 0.3467000126838684, 0.18649999797344208, 0.12790000438690186, 0.11490000039339066, -0.0008999999845400453, -0.07410000264644623, 0.0031999999191612005, 0.20360000431537628, 0.18469999730587006, 0.10019999742507935, 0.1753000020980835, 0.10740000009536743, 0.1151999980211258, -0.10689999908208847, 0.08659999817609787, 0.9129999876022339, 0.8270999789237976, 0.8263000249862671, 0.8259000182151794, 0.8258000016212463, 0.8251000046730042, 0.824400007724762, 0.8228999972343445, 0.8223000168800354, 0.8187000155448914, 0.8169000148773193, 0.8159999847412109, 0.8148000240325928, 0.8120999932289124, 0.8116000294685364, 0.8105999827384949, 0.8102999925613403, 0.8101999759674072, 0.8094000220298767, 0.8087000250816345, 0.8080000281333923, 0.8072999715805054, 0.807200014591217, 0.8058000206947327, 0.8026000261306763, 0.8011999726295471, 0.7052000164985657, 0.670199990272522, 0.6650000214576721, 0.6589000225067139, 0.2689000070095062, 0.5027999877929688, -0.12099999934434891, 0.397599995136261, 0.11699999868869781, 0.3935999870300293, 0.39809998869895935, 0.1597999930381775, 0.38029998540878296, 0.9697999954223633, 0.9469000101089478, 0.7835000157356262, 0.7835000157356262, 0.78329998254776, 0.7829999923706055, 0.7829999923706055, 0.7828999757766724, 0.7828999757766724, 0.7825999855995178, 0.7825999855995178, 0.7824000120162964, 0.7824000120162964, 0.7821999788284302, 0.7821000218391418, 0.7820000052452087, 0.7818999886512756, 0.7815999984741211, 0.7813000082969666, 0.7807999849319458, 0.7807999849319458, 0.7807000279426575, 0.7807000279426575, 0.7803999781608582, 0.7802000045776367, 0.7802000045776367, 0.7800999879837036, 0.7799999713897705, 0.7799999713897705, 0.7796000242233276, 0.5985999703407288, 0.6844000220298767, 0.6809999942779541, 0.5809000134468079, -0.07819999754428864, 0.35600000619888306, 0.48420000076293945, 0.13500000536441803, 0.27469998598098755, -0.008100000210106373, -0.021299999207258224, 0.41200000047683716, -0.09130000323057175, 0.006599999964237213, -0.2614000141620636, 0.2962000072002411]}, \"token.table\": {\"Topic\": [3, 3, 1, 2, 1, 3, 3, 1, 3, 1, 1, 2, 2, 2, 1, 2, 3, 1, 1, 2, 3, 1, 3, 2, 3, 2, 3, 2, 1, 3, 3, 1, 3, 3, 2, 1, 3, 2, 2, 1, 3, 2, 3, 1, 3, 1, 3, 2, 1, 2, 3, 3, 3, 1, 1, 3, 1, 1, 2, 1, 2, 1, 2, 1, 3, 1, 2, 1, 3, 3, 3, 2, 2, 1, 1, 3, 1, 2, 2, 1, 1, 2, 3, 2, 1, 2, 1, 1, 2, 1, 2, 3, 1, 2, 3, 2, 1, 2, 3, 2, 3, 1, 2, 2, 1, 1, 2, 3, 2, 1, 2, 1, 3, 1, 3, 1, 3, 3, 3, 2, 1, 3, 2, 3, 3, 2, 3, 1, 3, 1, 1, 2, 1, 1, 3, 3, 2, 1, 1, 1, 2, 3, 2, 3, 3, 1, 2, 1, 2, 1, 1, 1, 3, 1, 2, 2, 3, 1, 1, 2, 3], \"Freq\": [0.9927337169647217, 0.9933472871780396, 0.8371022939682007, 0.5883371233940125, 0.6477892398834229, 0.6477892398834229, 0.9932617545127869, 0.3818272054195404, 0.3818272054195404, 0.8367419838905334, 0.5570099949836731, 0.5570099949836731, 0.8613864183425903, 0.8609275817871094, 0.35423529148101807, 0.35423529148101807, 0.35423529148101807, 0.8368838429450989, 0.4426591098308563, 0.4426591098308563, 0.4426591098308563, 0.5622217059135437, 0.9926040768623352, 0.8618214726448059, 0.9927757978439331, 0.8619190454483032, 0.992979109287262, 0.8889723420143127, 0.6197600364685059, 0.6197600364685059, 0.6841235756874084, 0.576123058795929, 0.9928469061851501, 0.9928327798843384, 0.8881452083587646, 0.6363034844398499, 0.6363034844398499, 0.8617460131645203, 0.8609592318534851, 0.6260700225830078, 0.6260700225830078, 0.8611022233963013, 0.9933029413223267, 0.8365188837051392, 0.9932382106781006, 0.8365762233734131, 0.9927152991294861, 0.8623238801956177, 0.349471777677536, 0.349471777677536, 0.349471777677536, 0.9928488731384277, 0.9932442307472229, 0.5647592544555664, 0.8367946743965149, 0.992728590965271, 0.8364099264144897, 0.557668924331665, 0.557668924331665, 0.8367884159088135, 0.8624348640441895, 0.555561363697052, 0.889771580696106, 0.6037886142730713, 0.6037886142730713, 0.41210463643074036, 0.41210463643074036, 0.8369730710983276, 0.9931653141975403, 0.9930717349052429, 0.9933522939682007, 0.8625622987747192, 0.8623499870300293, 0.8364776968955994, 0.4599251449108124, 0.4599251449108124, 0.5570285320281982, 0.5570285320281982, 0.8618393540382385, 0.8366423845291138, 0.45854490995407104, 0.45854490995407104, 0.45854490995407104, 0.863406240940094, 0.8365465998649597, 0.8610023260116577, 0.8364606499671936, 0.43733635544776917, 0.43733635544776917, 0.7028822302818298, 0.3514411151409149, 0.3514411151409149, 0.4419466555118561, 0.4419466555118561, 0.4419466555118561, 0.8617314100265503, 0.3920167088508606, 0.1960083544254303, 0.1960083544254303, 0.6532164216041565, 0.6532164216041565, 0.5613137483596802, 0.8619490265846252, 0.861924946308136, 0.8370935916900635, 0.5689879655838013, 0.5689879655838013, 0.9931700229644775, 0.8614538311958313, 0.8367823362350464, 0.8711845278739929, 0.6043300628662109, 0.6043300628662109, 0.5876268148422241, 0.9931394457817078, 0.702705442905426, 0.351352721452713, 0.9927272796630859, 0.9932542443275452, 0.8610429763793945, 0.6090815663337708, 0.6090815663337708, 0.6216670870780945, 0.6216670870780945, 0.9927266836166382, 0.7338271737098694, 0.3669135868549347, 0.8368916511535645, 0.9928253889083862, 0.8364761471748352, 0.5597645044326782, 0.5597645044326782, 0.836618185043335, 0.4408370554447174, 0.4408370554447174, 0.9930771589279175, 0.8610838055610657, 0.8366240859031677, 0.8366940021514893, 0.5479387640953064, 0.861924946308136, 0.993108868598938, 0.8609450459480286, 0.9930661916732788, 0.6875026226043701, 0.5570533275604248, 0.5570533275604248, 0.8366034030914307, 0.8622860312461853, 0.5614017248153687, 0.8369877934455872, 0.8365935683250427, 0.9931644797325134, 0.5735811591148376, 0.5735811591148376, 0.8620288372039795, 0.992949366569519, 0.8368794322013855, 0.692073404788971, 0.3460367023944855, 0.3460367023944855], \"Term\": [\"abdecken\", \"abgabe\", \"abschaffung\", \"aktuell\", \"alltag\", \"alltag\", \"angebot\", \"arbeit\", \"arbeit\", \"arbeitsmarkt\", \"arbeitspl\\u00e4tzen\", \"arbeitspl\\u00e4tzen\", \"arbeitswelt\", \"auswirkung\", \"automatisieren\", \"automatisieren\", \"automatisieren\", \"b.\", \"bereich\", \"bereich\", \"bereich\", \"bestimmen\", \"betrinken\", \"black\", \"black-box\", \"box\", \"bringen\", \"daten-gl\\u00e4ubigkeit\", \"datenmengen\", \"datenmengen\", \"datenschutz\", \"datum\", \"dienstleistungen\", \"eher\", \"einerseits\", \"einsetzen\", \"einsetzen\", \"entdecken\", \"entlastung\", \"entscheidung\", \"entscheidung\", \"entsprechend\", \"entstehen\", \"entziehen\", \"erleichterung\", \"etc\", \"ethik\", \"fahren\", \"fehler\", \"fehler\", \"fehler\", \"fehlverhalten\", \"fleck\", \"fortschritt\", \"fr\\u00fcherkennung\", \"funktionieren\", \"geben\", \"gefahr\", \"gefahr\", \"gefahrenanf\\u00e4llig\", \"genau\", \"generell\", \"getrennt\", \"gl\\u00e4serne\", \"gl\\u00e4serne\", \"gut\", \"gut\", \"hand\", \"hinterfragen\", \"individualisierung\", \"individuell\", \"keinerlei\", \"komfort\", \"konsequenz\", \"kontrolle\", \"kontrolle\", \"krankheit\", \"krankheit\", \"kurz\", \"k\\u00e4lte\", \"k\\u00f6nnen\", \"k\\u00f6nnen\", \"k\\u00f6nnen\", \"leben\", \"llund\", \"l\\u00e4stig\", \"l\\u00f6sen\", \"l\\u00f6sung\", \"l\\u00f6sung\", \"maschine\", \"maschine\", \"maschine\", \"medizin\", \"medizin\", \"medizin\", \"meinung\", \"mensch\", \"mensch\", \"mensch\", \"menschlich\", \"menschlich\", \"menschliche\", \"missbrauchen\", \"m\\u00f6glichkeit\", \"normal\", \"nutzen\", \"nutzen\", \"objektivierung\", \"passieren\", \"passt\", \"pers\\u00f6nlich\", \"privatsph\\u00e4re\", \"privatsph\\u00e4re\", \"problem\", \"produkt\", \"proze\\u00df\", \"proze\\u00df\", \"qualitytime\", \"routinearbeiten\", \"routineaufgaben\", \"schnell\", \"schnell\", \"schnelligkeit\", \"schnelligkeit\", \"sch\\u00f6n\", \"sehen\", \"sehen\", \"soziale\", \"spa\\u00df\", \"strafverfolgung\", \"system\", \"system\", \"totale\", \"t\\u00e4tigkeit\", \"t\\u00e4tigkeit\", \"umsetzung\", \"umstrukturierung\", \"umweltkrisen\", \"verdr\\u00e4ngung\", \"vereinfachen\", \"vereinfacht\", \"vereinfachung\", \"verlust\", \"verl\\u00e4sst\", \"vermeidung\", \"verselbstst\\u00e4ndigung\", \"verselbstst\\u00e4ndigung\", \"versorgungsl\\u00fccken\", \"verstehem\", \"vertrauen\", \"vllt\", \"weitreichend\", \"wei\\u00dfe\", \"zum beispiel\", \"zum beispiel\", \"zusammenhang\", \"zustand\", \"\\u00e4rztlich\", \"\\u00fcberwachung\", \"\\u00fcberwachung\", \"\\u00fcberwachung\"]}, \"R\": 30, \"lambda.step\": 0.01, \"plot.opts\": {\"xlab\": \"PC1\", \"ylab\": \"PC2\"}, \"topic.order\": [2, 3, 1]};\n",
       "\n",
       "function LDAvis_load_lib(url, callback){\n",
       "  var s = document.createElement('script');\n",
       "  s.src = url;\n",
       "  s.async = true;\n",
       "  s.onreadystatechange = s.onload = callback;\n",
       "  s.onerror = function(){console.warn(\"failed to load library \" + url);};\n",
       "  document.getElementsByTagName(\"head\")[0].appendChild(s);\n",
       "}\n",
       "\n",
       "if(typeof(LDAvis) !== \"undefined\"){\n",
       "   // already loaded: just create the visualization\n",
       "   !function(LDAvis){\n",
       "       new LDAvis(\"#\" + \"ldavis_el32801397599508756484441866764\", ldavis_el32801397599508756484441866764_data);\n",
       "   }(LDAvis);\n",
       "}else if(typeof define === \"function\" && define.amd){\n",
       "   // require.js is available: use it to load d3/LDAvis\n",
       "   require.config({paths: {d3: \"https://cdnjs.cloudflare.com/ajax/libs/d3/3.5.5/d3.min\"}});\n",
       "   require([\"d3\"], function(d3){\n",
       "      window.d3 = d3;\n",
       "      LDAvis_load_lib(\"https://cdn.rawgit.com/bmabey/pyLDAvis/files/ldavis.v1.0.0.js\", function(){\n",
       "        new LDAvis(\"#\" + \"ldavis_el32801397599508756484441866764\", ldavis_el32801397599508756484441866764_data);\n",
       "      });\n",
       "    });\n",
       "}else{\n",
       "    // require.js not available: dynamically load d3 & LDAvis\n",
       "    LDAvis_load_lib(\"https://cdnjs.cloudflare.com/ajax/libs/d3/3.5.5/d3.min.js\", function(){\n",
       "         LDAvis_load_lib(\"https://cdn.rawgit.com/bmabey/pyLDAvis/files/ldavis.v1.0.0.js\", function(){\n",
       "                 new LDAvis(\"#\" + \"ldavis_el32801397599508756484441866764\", ldavis_el32801397599508756484441866764_data);\n",
       "            })\n",
       "         });\n",
       "}\n",
       "</script>"
      ],
      "text/plain": [
       "PreparedData(topic_coordinates=              x         y  topics  cluster       Freq\n",
       "topic                                                \n",
       "1      0.069156 -0.015062       1        1  43.218777\n",
       "2     -0.052824 -0.035285       2        1  30.022175\n",
       "0     -0.016332  0.050347       3        1  26.759052, topic_info=            Term      Freq     Total Category  logprob  loglift\n",
       "75    persönlich  2.000000  2.000000  Default  30.0000  30.0000\n",
       "76         sehen  2.000000  2.000000  Default  29.0000  29.0000\n",
       "89    vermeidung  1.000000  1.000000  Default  28.0000  28.0000\n",
       "0    datenschutz  1.000000  1.000000  Default  27.0000  27.0000\n",
       "118       arbeit  2.000000  2.000000  Default  26.0000  26.0000\n",
       "..           ...       ...       ...      ...      ...      ...\n",
       "191  datenmengen  0.651894  1.613528   Topic3  -4.9444   0.4120\n",
       "187     maschine  0.694977  2.845427   Topic3  -4.8804  -0.0913\n",
       "96     tätigkeit  0.611047  2.268412   Topic3  -5.0091   0.0066\n",
       "162  überwachung  0.595413  2.889867   Topic3  -5.0350  -0.2614\n",
       "127      schnell  0.590801  1.641816   Topic3  -5.0428   0.2962\n",
       "\n",
       "[168 rows x 6 columns], token_table=      Topic      Freq         Term\n",
       "term                              \n",
       "115       3  0.992734     abdecken\n",
       "78        3  0.993347       abgabe\n",
       "111       1  0.837102  abschaffung\n",
       "107       2  0.588337      aktuell\n",
       "116       1  0.647789       alltag\n",
       "...     ...       ...          ...\n",
       "261       3  0.992949      zustand\n",
       "206       1  0.836879     ärztlich\n",
       "162       1  0.692073  überwachung\n",
       "162       2  0.346037  überwachung\n",
       "162       3  0.346037  überwachung\n",
       "\n",
       "[161 rows x 3 columns], R=30, lambda_step=0.01, plot_opts={'xlab': 'PC1', 'ylab': 'PC2'}, topic_order=[2, 3, 1])"
      ]
     },
     "execution_count": 28,
     "metadata": {},
     "output_type": "execute_result"
    }
   ],
   "source": [
    "numberOfTopics = 3\n",
    "lda_gensim = gensim.models.LdaModel(bow_corpus_gensim, random_state=1, id2word=dictionary, num_topics = numberOfTopics)\n",
    "\n",
    "# pyLDAvis\n",
    "vis_gensim = pyLDAvis.gensim.prepare(lda_gensim, corpus = bow_corpus_gensim, dictionary=dictionary)\n",
    "vis_gensim"
   ]
  },
  {
   "cell_type": "markdown",
   "metadata": {},
   "source": [
    "Anscheinend gibts aufgrund der geringen Datenmenge nur 3 Topics. und eines ist eh ein Rest-Topic"
   ]
  },
  {
   "cell_type": "code",
   "execution_count": 29,
   "metadata": {},
   "outputs": [],
   "source": [
    "\"\"\"wordPerTopic = [p for p in lda.print_topics(num_words=3)]\n",
    "wordPerTopic\"\"\"\n",
    "# top words per topic for gensim\n",
    "wordPerTopic_gensim = []\n",
    "\n",
    "for number in range(numberOfTopics):\n",
    "    temp = []\n",
    "    for entries in lda_gensim.show_topic(number):\n",
    "        temp.append(entries[0])\n",
    "    wordPerTopic_gensim.append(temp)"
   ]
  },
  {
   "cell_type": "code",
   "execution_count": 30,
   "metadata": {},
   "outputs": [],
   "source": [
    "# plots corpus content\n",
    "# [lda[corp] for corp in bow_corpus]\n",
    "\n",
    "topicPerDoc_gensim = []\n",
    "for corp in bow_corpus_gensim:\n",
    "    temp = []\n",
    "    for x in lda_gensim[corp]:\n",
    "        temp.append([x[0], x[1]])\n",
    "    topicPerDoc_gensim.append(temp)\n",
    "\n",
    "# calculate the most probable topic for document\n",
    "topTopicPerDoc_gensim = []\n",
    "for topic in topicPerDoc_gensim:\n",
    "    tempDf = pd.DataFrame(topic)\n",
    "    idx = tempDf.iloc[:, 1].idxmax()\n",
    "    topTopicPerDoc_gensim.append(tempDf.iloc[idx, 0])"
   ]
  },
  {
   "cell_type": "code",
   "execution_count": 31,
   "metadata": {},
   "outputs": [
    {
     "data": {
      "text/html": [
       "<div>\n",
       "<style scoped>\n",
       "    .dataframe tbody tr th:only-of-type {\n",
       "        vertical-align: middle;\n",
       "    }\n",
       "\n",
       "    .dataframe tbody tr th {\n",
       "        vertical-align: top;\n",
       "    }\n",
       "\n",
       "    .dataframe thead th {\n",
       "        text-align: right;\n",
       "    }\n",
       "</style>\n",
       "<table border=\"1\" class=\"dataframe\">\n",
       "  <thead>\n",
       "    <tr style=\"text-align: right;\">\n",
       "      <th></th>\n",
       "      <th>0</th>\n",
       "      <th>1</th>\n",
       "    </tr>\n",
       "  </thead>\n",
       "  <tbody>\n",
       "    <tr>\n",
       "      <th>0</th>\n",
       "      <td>[(0.016726749, persönlich), (0.016130833, sehe...</td>\n",
       "      <td>-10.564442</td>\n",
       "    </tr>\n",
       "    <tr>\n",
       "      <th>1</th>\n",
       "      <td>[(0.013934194, arbeit), (0.013794816, mensch),...</td>\n",
       "      <td>-17.552312</td>\n",
       "    </tr>\n",
       "    <tr>\n",
       "      <th>2</th>\n",
       "      <td>[(0.016793981, mensch), (0.012737708, prozeß),...</td>\n",
       "      <td>-17.870275</td>\n",
       "    </tr>\n",
       "  </tbody>\n",
       "</table>\n",
       "</div>"
      ],
      "text/plain": [
       "                                                   0          1\n",
       "0  [(0.016726749, persönlich), (0.016130833, sehe... -10.564442\n",
       "1  [(0.013934194, arbeit), (0.013794816, mensch),... -17.552312\n",
       "2  [(0.016793981, mensch), (0.012737708, prozeß),... -17.870275"
      ]
     },
     "execution_count": 31,
     "metadata": {},
     "output_type": "execute_result"
    }
   ],
   "source": [
    "# show top words per topic incl. probability\n",
    "pd.DataFrame([p for p in lda_gensim.top_topics(bow_corpus_gensim)])"
   ]
  },
  {
   "cell_type": "code",
   "execution_count": 32,
   "metadata": {},
   "outputs": [],
   "source": [
    "# produce pandas dataframe for visual inspection\n",
    "\n",
    "# get probability of each word per topic\n",
    "lda_gensim_topic2Word = pd.DataFrame(lda_gensim.get_topics(), index = [\"topic\" + str(i) for i in range(numberOfTopics)], columns = [id for id in dictionary.token2id])\n",
    "\n",
    "# get the most x common words for one topic\n",
    "top = 5\n",
    "lda_gensim_words = pd.DataFrame([row.sort_values(ascending = False).index.tolist()[:top] for _, row in lda_gensim_topic2Word.iterrows()], index = [\"topic\" + str(i) for i in range(numberOfTopics)])\n",
    "\n",
    "# get most probable topic for the document\n",
    "gensim_lda_total = pd.DataFrame([\"topic\"+ str(word) for word in topTopicPerDoc_gensim])\n",
    "\n",
    "# prepare for merging\n",
    "lda_gensim_words_new = lda_gensim_words.reset_index()\n",
    "lda_gensim_words_new.columns = [\"topic\"] + [\"word\"+str(i) for i in range(top)]\n",
    "gensim_lda_total.columns = [\"topic\"]\n",
    "\n",
    "# merge result parts\n",
    "gensim_lda_total = gensim_lda_total.merge(lda_gensim_words_new, how=\"left\", left_on=\"topic\", right_on=\"topic\")\n",
    "gensim_lda_total[\"text\"] = text_list"
   ]
  },
  {
   "cell_type": "code",
   "execution_count": 33,
   "metadata": {},
   "outputs": [
    {
     "data": {
      "text/html": [
       "<div>\n",
       "<style scoped>\n",
       "    .dataframe tbody tr th:only-of-type {\n",
       "        vertical-align: middle;\n",
       "    }\n",
       "\n",
       "    .dataframe tbody tr th {\n",
       "        vertical-align: top;\n",
       "    }\n",
       "\n",
       "    .dataframe thead th {\n",
       "        text-align: right;\n",
       "    }\n",
       "</style>\n",
       "<table border=\"1\" class=\"dataframe\">\n",
       "  <thead>\n",
       "    <tr style=\"text-align: right;\">\n",
       "      <th></th>\n",
       "      <th>topic</th>\n",
       "      <th>word0</th>\n",
       "      <th>word1</th>\n",
       "      <th>word2</th>\n",
       "      <th>word3</th>\n",
       "      <th>word4</th>\n",
       "      <th>text</th>\n",
       "    </tr>\n",
       "  </thead>\n",
       "  <tbody>\n",
       "    <tr>\n",
       "      <th>0</th>\n",
       "      <td>topic0</td>\n",
       "      <td>arbeit</td>\n",
       "      <td>mensch</td>\n",
       "      <td>vermeidung</td>\n",
       "      <td>datenschutz</td>\n",
       "      <td>sehen</td>\n",
       "      <td>Risiko Datenschutz + Privatsphäre</td>\n",
       "    </tr>\n",
       "    <tr>\n",
       "      <th>1</th>\n",
       "      <td>topic1</td>\n",
       "      <td>mensch</td>\n",
       "      <td>prozeß</td>\n",
       "      <td>überwachung</td>\n",
       "      <td>maschine</td>\n",
       "      <td>automatisieren</td>\n",
       "      <td>Chancen: Sicherheit, Prävention\\nRisiken: der ...</td>\n",
       "    </tr>\n",
       "    <tr>\n",
       "      <th>2</th>\n",
       "      <td>topic1</td>\n",
       "      <td>mensch</td>\n",
       "      <td>prozeß</td>\n",
       "      <td>überwachung</td>\n",
       "      <td>maschine</td>\n",
       "      <td>automatisieren</td>\n",
       "      <td>Chancen: Minimierung von Fehlern\\nRisiken: \"En...</td>\n",
       "    </tr>\n",
       "    <tr>\n",
       "      <th>3</th>\n",
       "      <td>topic1</td>\n",
       "      <td>mensch</td>\n",
       "      <td>prozeß</td>\n",
       "      <td>überwachung</td>\n",
       "      <td>maschine</td>\n",
       "      <td>automatisieren</td>\n",
       "      <td>Analyse von vielen unstrukturierten und auf de...</td>\n",
       "    </tr>\n",
       "    <tr>\n",
       "      <th>4</th>\n",
       "      <td>topic0</td>\n",
       "      <td>arbeit</td>\n",
       "      <td>mensch</td>\n",
       "      <td>vermeidung</td>\n",
       "      <td>datenschutz</td>\n",
       "      <td>sehen</td>\n",
       "      <td>KI könnte den Arbeitsalltag erleichtern, indem...</td>\n",
       "    </tr>\n",
       "  </tbody>\n",
       "</table>\n",
       "</div>"
      ],
      "text/plain": [
       "    topic   word0   word1        word2        word3           word4  \\\n",
       "0  topic0  arbeit  mensch   vermeidung  datenschutz           sehen   \n",
       "1  topic1  mensch  prozeß  überwachung     maschine  automatisieren   \n",
       "2  topic1  mensch  prozeß  überwachung     maschine  automatisieren   \n",
       "3  topic1  mensch  prozeß  überwachung     maschine  automatisieren   \n",
       "4  topic0  arbeit  mensch   vermeidung  datenschutz           sehen   \n",
       "\n",
       "                                                text  \n",
       "0                  Risiko Datenschutz + Privatsphäre  \n",
       "1  Chancen: Sicherheit, Prävention\\nRisiken: der ...  \n",
       "2  Chancen: Minimierung von Fehlern\\nRisiken: \"En...  \n",
       "3  Analyse von vielen unstrukturierten und auf de...  \n",
       "4  KI könnte den Arbeitsalltag erleichtern, indem...  "
      ]
     },
     "execution_count": 33,
     "metadata": {},
     "output_type": "execute_result"
    }
   ],
   "source": [
    "gensim_lda_total.head()"
   ]
  },
  {
   "cell_type": "markdown",
   "metadata": {},
   "source": [
    "## SKlearn approach"
   ]
  },
  {
   "cell_type": "code",
   "execution_count": 34,
   "metadata": {},
   "outputs": [],
   "source": [
    "from sklearn.feature_extraction.text import CountVectorizer\n",
    "from sklearn.decomposition import LatentDirichletAllocation\n",
    "import pyLDAvis.sklearn"
   ]
  },
  {
   "cell_type": "code",
   "execution_count": 35,
   "metadata": {},
   "outputs": [],
   "source": [
    "# create dummy function to trick the countVectorizer\n",
    "def dummy(doc):\n",
    "    return doc"
   ]
  },
  {
   "cell_type": "code",
   "execution_count": 36,
   "metadata": {},
   "outputs": [],
   "source": [
    "# call the Count Vectorizer\n",
    "cV = CountVectorizer(tokenizer=dummy, preprocessor=dummy)"
   ]
  },
  {
   "cell_type": "code",
   "execution_count": 37,
   "metadata": {},
   "outputs": [
    {
     "name": "stderr",
     "output_type": "stream",
     "text": [
      "/var/www/universityJobDay/universityJobDay/.venv/lib/python3.7/site-packages/sklearn/feature_extraction/text.py:484: UserWarning: The parameter 'token_pattern' will not be used since 'tokenizer' is not None'\n",
      "  warnings.warn(\"The parameter 'token_pattern' will not be used\"\n"
     ]
    }
   ],
   "source": [
    "# fit countvectorizer and transform to bow_corpus\n",
    "cV.fit(final2) # call \".get_feature_names()\" to retrieve feature names (aka dictionary)\n",
    "bow_corpus_sk = cV.fit_transform(final2)"
   ]
  },
  {
   "cell_type": "code",
   "execution_count": 38,
   "metadata": {},
   "outputs": [
    {
     "data": {
      "text/plain": [
       "count    267.000000\n",
       "mean       1.280899\n",
       "std        0.760719\n",
       "min        1.000000\n",
       "25%        1.000000\n",
       "50%        1.000000\n",
       "75%        1.000000\n",
       "max        8.000000\n",
       "dtype: float64"
      ]
     },
     "execution_count": 38,
     "metadata": {},
     "output_type": "execute_result"
    }
   ],
   "source": [
    "#number of counts\n",
    "dic = cV.get_feature_names()\n",
    "total_counts=np.zeros(len(dic))\n",
    "for t in bow_corpus_sk:\n",
    "    total_counts+=t.toarray()[0]\n",
    "\n",
    "countings = pd.Series(total_counts, index=dic)\n",
    "countings.describe() # mean of just 1.something tells us, that the words are only countet once most of the time"
   ]
  },
  {
   "cell_type": "code",
   "execution_count": 39,
   "metadata": {},
   "outputs": [
    {
     "data": {
      "text/plain": [
       "mensch            8.0\n",
       "überwachung       4.0\n",
       "arbeit            4.0\n",
       "prozeß            4.0\n",
       "sehen             4.0\n",
       "maschine          4.0\n",
       "fehler            4.0\n",
       "automatisieren    4.0\n",
       "persönlich        3.0\n",
       "medizin           3.0\n",
       "dtype: float64"
      ]
     },
     "execution_count": 39,
     "metadata": {},
     "output_type": "execute_result"
    }
   ],
   "source": [
    "countings.sort_values(ascending=False)[:10] #most counted word is \"mensch\""
   ]
  },
  {
   "cell_type": "code",
   "execution_count": 40,
   "metadata": {},
   "outputs": [
    {
     "data": {
      "text/html": [
       "\n",
       "<link rel=\"stylesheet\" type=\"text/css\" href=\"https://cdn.rawgit.com/bmabey/pyLDAvis/files/ldavis.v1.0.0.css\">\n",
       "\n",
       "\n",
       "<div id=\"ldavis_el32801397599287496564883008065\"></div>\n",
       "<script type=\"text/javascript\">\n",
       "\n",
       "var ldavis_el32801397599287496564883008065_data = {\"mdsDat\": {\"x\": [0.06295767422847187, -0.02507335946120563, -0.02027731052884044, -0.016253884803043277, -0.0013531194353826202], \"y\": [0.0009489616192758241, 0.04408022731797776, -0.044492037202155665, -0.009569259015496151, 0.009032107280398247], \"topics\": [1, 2, 3, 4, 5], \"cluster\": [1, 1, 1, 1, 1], \"Freq\": [32.15282805471541, 22.96881578285182, 21.43452971942883, 12.959990995146848, 10.483835447857093]}, \"tinfo\": {\"Term\": [\"mensch\", \"\\u00fcberwachung\", \"fehler\", \"medizin\", \"krankheit\", \"automatisieren\", \"\\u00fcbernehmen\", \"system\", \"wichtig\", \"problem\", \"sicherheit\", \"etc.\", \"einparken\", \"pr\\u00e4vention\", \"hirn\", \"routenf\\u00fchrung\", \"hinterher\", \"benutzen\", \"ausf\\u00e4llen\", \"handlungsunf\\u00e4hig\", \"autofahren\", \"ersetzt\", \"erleichertung\", \"wissenschaft\", \"divers\", \"ops\", \"entdecken\", \"zusammenhang\", \"m\\u00f6glichkeit\", \"verstehem\", \"pers\\u00f6nlich\", \"vertrauen\", \"menschliche\", \"entscheidung\", \"vermeidung\", \"nutzen\", \"aktuell\", \"sehen\", \"kontrolle\", \"intelligent\", \"induktion\", \"hoch\", \"h\\u00e4ufig\", \"k\\u00fcnstliche\", \"intelligenz\", \"genialit\\u00e4t\", \"objektivit\\u00e4t\", \"verarbeitung\", \"unfehlbarkeit\", \"gro\\u00df\", \"unfehlbar\", \"ausf\\u00fchren\", \"erkenntnis\", \"aprogrammierer\", \"einzelfallbeobachtung\", \"effizienzgewinne\", \"echt\", \"fehlentscheidung\", \"computer\", \"behindern\", \"maschine\", \"mensch\", \"basieren\", \"datenschutz\", \"generell\", \"vereinfachen\", \"datenmengen\", \"proze\\u00df\", \"fortschritt\", \"fehler\", \"verselbstst\\u00e4ndigung\", \"arbeitspl\\u00e4tzen\", \"analyse\", \"privatsph\\u00e4re\", \"medizin\", \"entsprechend\", \"entlastung\", \"auswirkung\", \"verlust\", \"l\\u00e4stig\", \"umstrukturierung\", \"arbeitswelt\", \"routineaufgaben\", \"menschens\", \"einfluss\", \"m\\u00f6glicherweise\", \"vorgang\", \"arbeitsalltag\", \"riskant\", \"erleichtern\", \"gesundheit\", \"selbstst\\u00e4ndig\", \"sch\\u00f6n\", \"auto\", \"haus\", \"betrinken\", \"qualitytime\", \"erhalten\", \"freizeit/\", \"gl\\u00e4serne\", \"gut\", \"bereich\", \"schnelligkeit\", \"einsetzen\", \"gefahr\", \"wichtig\", \"problem\", \"l\\u00f6sung\", \"umweltkrisen\", \"l\\u00f6sen\", \"totale\", \"konsequenz\", \"strafverfolgung\", \"fr\\u00fcherkennung\", \"etc\", \"llund\", \"weitreichend\", \"ersparnis\", \"cyber-kriminalit\\u00e4t\", \"verf\\u00fcgbar\", \"einschr\\u00e4nkung\", \"freiheit\", \"effizienz\", \"basis\", \"zeitfressern\", \"langweilig\", \"wesentlich\", \"kis\", \"erg\\u00e4nzung\", \"kompetenz\", \"ersatz\", \"unterst\\u00fctzung\", \"fehlen\", \"furcht\", \"empathie\", \"t\\u00e4tigkeit\", \"\\u00fcberwachung\", \"perfekte\", \"lieben\", \"verwenden\", \"automatisieren\", \"proze\\u00df\", \"arbeit\", \"gut\", \"weder\", \"krankheit\", \"datum\", \"bestimmen\", \"schnell\", \"mensch\", \"alltag\", \"menschlich\", \"mi\\u00dfbrauchen\", \"blinde\", \"un\", \"textmining\", \"textfelder\", \"auswertung\", \"schlau\", \"sammeln\", \"alalogen\", \"qual\", \"pros\", \"nachteil\", \"multi\", \"leisten\", \"ungleich\", \"leicht\", \"vor allem\", \"kr\\u00e4fteverh\\u00e4ltnisse\", \"input-quellen/infomationen\", \"einerseits\", \"zus\\u00e4tzlich\", \"effizienz/effektivit\\u00e4t\", \"getrennt\", \"dhaben\", \"daten-gl\\u00e4ubigkeit\", \"cons\", \"klein\", \"klugschei\\u00dfer-input\", \"unabdingbar\", \"box\", \"\\u00fcberwachung\", \"k\\u00f6nnen\", \"automatisieren\", \"zum beispiel\", \"sicherheit\", \"ausf\\u00e4llen\", \"pr\\u00e4vention\", \"hinterher\", \"hirn\", \"benutzen\", \"etc.\", \"handlungsunf\\u00e4hig\", \"einparken\", \"autofahren\", \"routenf\\u00fchrung\", \"ops\", \"wissenschaft\", \"erleichertung\", \"ersetzt\", \"divers\", \"kurz\", \"missbrauchen\", \"verstehem\", \"m\\u00f6glichkeit\", \"zusammenhang\", \"entdecken\", \"leben\", \"vereinfacht\", \"fahren\", \"krankheit\", \"\\u00fcbernehmen\", \"system\", \"mensch\", \"medizin\", \"bereich\", \"maschine\", \"fehler\"], \"Freq\": [3.0, 2.0, 2.0, 1.0, 1.0, 2.0, 1.0, 1.0, 1.0, 1.0, 1.0, 1.0, 1.0, 1.0, 1.0, 1.0, 1.0, 1.0, 1.0, 1.0, 1.0, 1.0, 1.0, 1.0, 1.0, 1.0, 1.0, 1.0, 1.0, 1.0, 1.5741071436942515, 1.1243628834586683, 1.1243628834586683, 1.1243627229348558, 1.1243625624108444, 1.1243623441805337, 1.124362272416549, 1.5741079877660709, 1.1243628906611454, 0.6746176199091732, 0.6746176199091732, 0.6746176199091732, 0.6746176199091732, 0.6746176199091732, 0.6746176199091732, 0.6746176199091732, 0.6746176199091732, 0.6746176199091732, 0.6746176199091732, 0.6746176199091732, 0.6746176199091732, 0.6746176199091732, 0.6746176199091732, 0.6746176199091732, 0.6746176199091732, 0.6746176199091732, 0.6746176199091732, 0.6746176199091732, 0.6746176199091732, 0.6746176199091732, 1.124366273550194, 1.5740934347344733, 0.6746176199091732, 0.6746238854053569, 0.6746204496561539, 0.6746193495858134, 0.6746185710652768, 0.6746185092712712, 0.6746180955847758, 1.2877606919708184, 0.919828389984756, 0.919828389984756, 0.9198282310661358, 0.9198265662874503, 0.9198287921844787, 0.5518969588820953, 0.5518969588820953, 0.5518969588820953, 0.5518969588820953, 0.5518969588820953, 0.5518969588820953, 0.5518969588820953, 0.5518969588820953, 0.5518969261173085, 0.5518969261173085, 0.5518969261173085, 0.5518969261173085, 0.5518969261173085, 0.5518969261173085, 0.5518969261173085, 0.5518969261173085, 0.5518968883335033, 0.5518968883335033, 0.5518968883335033, 0.5518968883335033, 0.5518968883335033, 0.5518968883335033, 0.5518968883335033, 0.5518968883335033, 0.5519034198158468, 0.5518986100511449, 0.5518973325212371, 0.5518971967432333, 0.5518971188975295, 0.5518969301829357, 0.8874822498118173, 0.8874821896451913, 0.8874828645960513, 0.5324892913846707, 0.5324892913846707, 0.5324892913846707, 0.5324892913846707, 0.5324892913846707, 0.5324892913846707, 0.5324892913846707, 0.5324892913846707, 0.5324892913846707, 0.5324892476448841, 0.5324892476448841, 0.5324892476448841, 0.5324892476448841, 0.5324892476448841, 0.5324892476448841, 0.5324892476448841, 0.5324892476448841, 0.5324892476448841, 0.5324892476448841, 0.5324891909372386, 0.5324891909372386, 0.5324891909372386, 0.5324891909372386, 0.5324891909372386, 0.5324891909372386, 0.5324891909372386, 0.5324891909372386, 0.88748245840195, 0.8874837345524643, 0.5324891909372386, 0.5324891909372386, 0.5324891909372386, 0.8874833346361978, 0.8874869941879887, 0.887484319577632, 0.532491430125291, 0.5324911647591496, 0.5324910401898598, 0.5324899504539143, 0.5324895284756215, 0.5324895263855484, 0.53248943001479, 0.5324894262567428, 0.5324894257118757, 0.3766838973172376, 0.3766838973172376, 0.3766838973172376, 0.3766838973172376, 0.3766838973172376, 0.3766838973172376, 0.3766838973172376, 0.3766838973172376, 0.3766838973172376, 0.3766838973172376, 0.3766838973172376, 0.3766838973172376, 0.3766838973172376, 0.3766838973172376, 0.3766838973172376, 0.3766838973172376, 0.3766838973172376, 0.3766838973172376, 0.3766838973172376, 0.3766838973172376, 0.3766838973172376, 0.3766838973172376, 0.3766838973172376, 0.3766838973172376, 0.3766838973172376, 0.3766838973172376, 0.3766838973172376, 0.3766838973172376, 0.3766838973172376, 0.37668338260851786, 0.6278053524854041, 0.3766851478607724, 0.3766845536683506, 0.37668422488621256, 0.31918105113483186, 0.31918105113483186, 0.31918105113483186, 0.31918105113483186, 0.31918105113483186, 0.31918105113483186, 0.31918105113483186, 0.31918105113483186, 0.31918105113483186, 0.31918105113483186, 0.31918105113483186, 0.31918099319603566, 0.31918099319603566, 0.31918099319603566, 0.31918099319603566, 0.31918099319603566, 0.31918075973392085, 0.31918075973392085, 0.31918075973392085, 0.31918075973392085, 0.31918075973392085, 0.31918075973392085, 0.319180485592658, 0.319180485592658, 0.319180485592658, 0.31917969043671035, 0.3191816668250793, 0.31918128334829265, 0.7447655536593744, 0.31918092057717046, 0.3191816126921828, 0.3191810630391908, 0.31918067874292333], \"Total\": [3.0, 2.0, 2.0, 1.0, 1.0, 2.0, 1.0, 1.0, 1.0, 1.0, 1.0, 1.0, 1.0, 1.0, 1.0, 1.0, 1.0, 1.0, 1.0, 1.0, 1.0, 1.0, 1.0, 1.0, 1.0, 1.0, 1.0, 1.0, 1.0, 1.0, 2.16752541785301, 1.717780505595531, 1.717780505595531, 1.7177804485935388, 1.7177803915914738, 1.7177803141002221, 1.7177802886158084, 2.5354570615647405, 2.0727734657220265, 1.2680352370798904, 1.2680352370798904, 1.2680352370798904, 1.2680352370798904, 1.2680352370798904, 1.2680352370798904, 1.2680352370798904, 1.2680352370798904, 1.2680352370798904, 1.2680352370798904, 1.2680352370798904, 1.2680352370798904, 1.2680352370798904, 1.2680352370798904, 1.2680352370798904, 1.2680352370798904, 1.2680352370798904, 1.2680352370798904, 1.2680352370798904, 1.2680352370798904, 1.2680352370798904, 2.2985002785912636, 3.5288032669345575, 1.2680352370798904, 1.6359670714041894, 1.6359669626077742, 1.635966683643815, 1.6359668480642222, 2.3459525969521553, 1.6230283354543118, 2.134872732739144, 1.5541531655661358, 1.5541531655661358, 1.5541531379838571, 1.5541528492404266, 1.7669409627946773, 1.1862215929192235, 1.1862215929192235, 1.1862215929192235, 1.1862215929192235, 1.1862215929192235, 1.1862215929192235, 1.1862215929192235, 1.1862215929192235, 1.1862215872293878, 1.1862215872293878, 1.1862215872293878, 1.1862215872293878, 1.1862215872293878, 1.1862215872293878, 1.1862215872293878, 1.1862215872293878, 1.1862215807109229, 1.1862215807109229, 1.1862215807109229, 1.1862215807109229, 1.1862215807109229, 1.1862215807109229, 1.1862215807109229, 1.1862215807109229, 1.6359634898751076, 1.7923385139461119, 1.8487537272581314, 1.6359666225291927, 1.5412146077876026, 1.4373444356076899, 1.5282761807737102, 1.5282761726061513, 1.8962076768848588, 1.1732831098518146, 1.1732831098518146, 1.1732831098518146, 1.1732831098518146, 1.1732831098518146, 1.1732831098518146, 1.1732831098518146, 1.1732831098518146, 1.1732831098518146, 1.1732831039221083, 1.1732831039221083, 1.1732831039221083, 1.1732831039221083, 1.1732831039221083, 1.1732831039221083, 1.1732831039221083, 1.1732831039221083, 1.1732831039221083, 1.1732831039221083, 1.1732830961745166, 1.1732830961745166, 1.1732830961745166, 1.1732830961745166, 1.1732830961745166, 1.1732830961745166, 1.1732830961745166, 1.1732830961745166, 1.9780213200541596, 2.0305220656335696, 1.1732830961745166, 1.1732830961745166, 1.1732830961745166, 2.147330160687433, 2.3459525969521553, 2.3459525810328143, 1.7923385139461119, 1.623027187273156, 1.3860716729338924, 1.5412145559707615, 1.6230279992248433, 1.6230281640722344, 3.5288032669345575, 1.623028173193485, 1.6230281207892543, 1.0694127728151461, 1.0694127728151461, 1.0694127728151461, 1.0694127728151461, 1.0694127728151461, 1.0694127728151461, 1.0694127728151461, 1.0694127728151461, 1.0694127728151461, 1.0694127728151461, 1.0694127728151461, 1.0694127728151461, 1.0694127728151461, 1.0694127728151461, 1.0694127728151461, 1.0694127728151461, 1.0694127728151461, 1.0694127728151461, 1.0694127728151461, 1.0694127728151461, 1.0694127728151461, 1.0694127728151461, 1.0694127728151461, 1.0694127728151461, 1.0694127728151461, 1.0694127728151461, 1.0694127728151461, 1.0694127728151461, 1.0694127728151461, 1.0694129441510747, 2.0305220656335696, 1.887088515846802, 2.147330160687433, 1.4244057072579765, 1.031077701002304, 1.031077701002304, 1.031077701002304, 1.031077701002304, 1.031077701002304, 1.031077701002304, 1.031077701002304, 1.031077701002304, 1.031077701002304, 1.031077701002304, 1.031077701002304, 1.0310777377645057, 1.0310777377645057, 1.0310777377645057, 1.0310777377645057, 1.0310777377645057, 1.0310778857392433, 1.0310778857392433, 1.0310778857392433, 1.0310778857392433, 1.0310778857392433, 1.0310778857392433, 1.0310780595427065, 1.0310780595427065, 1.0310780595427065, 1.3860716729338924, 1.3990088155359524, 1.399009111102687, 3.5288032669345575, 1.7669409627946773, 1.8487537272581314, 2.2985002785912636, 2.134872732739144], \"Category\": [\"Default\", \"Default\", \"Default\", \"Default\", \"Default\", \"Default\", \"Default\", \"Default\", \"Default\", \"Default\", \"Default\", \"Default\", \"Default\", \"Default\", \"Default\", \"Default\", \"Default\", \"Default\", \"Default\", \"Default\", \"Default\", \"Default\", \"Default\", \"Default\", \"Default\", \"Default\", \"Default\", \"Default\", \"Default\", \"Default\", \"Topic1\", \"Topic1\", \"Topic1\", \"Topic1\", \"Topic1\", \"Topic1\", \"Topic1\", \"Topic1\", \"Topic1\", \"Topic1\", \"Topic1\", \"Topic1\", \"Topic1\", \"Topic1\", \"Topic1\", \"Topic1\", \"Topic1\", \"Topic1\", \"Topic1\", \"Topic1\", \"Topic1\", \"Topic1\", \"Topic1\", \"Topic1\", \"Topic1\", \"Topic1\", \"Topic1\", \"Topic1\", \"Topic1\", \"Topic1\", \"Topic1\", \"Topic1\", \"Topic1\", \"Topic1\", \"Topic1\", \"Topic1\", \"Topic1\", \"Topic1\", \"Topic1\", \"Topic2\", \"Topic2\", \"Topic2\", \"Topic2\", \"Topic2\", \"Topic2\", \"Topic2\", \"Topic2\", \"Topic2\", \"Topic2\", \"Topic2\", \"Topic2\", \"Topic2\", \"Topic2\", \"Topic2\", \"Topic2\", \"Topic2\", \"Topic2\", \"Topic2\", \"Topic2\", \"Topic2\", \"Topic2\", \"Topic2\", \"Topic2\", \"Topic2\", \"Topic2\", \"Topic2\", \"Topic2\", \"Topic2\", \"Topic2\", \"Topic2\", \"Topic2\", \"Topic2\", \"Topic2\", \"Topic2\", \"Topic2\", \"Topic3\", \"Topic3\", \"Topic3\", \"Topic3\", \"Topic3\", \"Topic3\", \"Topic3\", \"Topic3\", \"Topic3\", \"Topic3\", \"Topic3\", \"Topic3\", \"Topic3\", \"Topic3\", \"Topic3\", \"Topic3\", \"Topic3\", \"Topic3\", \"Topic3\", \"Topic3\", \"Topic3\", \"Topic3\", \"Topic3\", \"Topic3\", \"Topic3\", \"Topic3\", \"Topic3\", \"Topic3\", \"Topic3\", \"Topic3\", \"Topic3\", \"Topic3\", \"Topic3\", \"Topic3\", \"Topic3\", \"Topic3\", \"Topic3\", \"Topic3\", \"Topic3\", \"Topic3\", \"Topic3\", \"Topic3\", \"Topic3\", \"Topic3\", \"Topic3\", \"Topic3\", \"Topic3\", \"Topic4\", \"Topic4\", \"Topic4\", \"Topic4\", \"Topic4\", \"Topic4\", \"Topic4\", \"Topic4\", \"Topic4\", \"Topic4\", \"Topic4\", \"Topic4\", \"Topic4\", \"Topic4\", \"Topic4\", \"Topic4\", \"Topic4\", \"Topic4\", \"Topic4\", \"Topic4\", \"Topic4\", \"Topic4\", \"Topic4\", \"Topic4\", \"Topic4\", \"Topic4\", \"Topic4\", \"Topic4\", \"Topic4\", \"Topic4\", \"Topic4\", \"Topic4\", \"Topic4\", \"Topic4\", \"Topic5\", \"Topic5\", \"Topic5\", \"Topic5\", \"Topic5\", \"Topic5\", \"Topic5\", \"Topic5\", \"Topic5\", \"Topic5\", \"Topic5\", \"Topic5\", \"Topic5\", \"Topic5\", \"Topic5\", \"Topic5\", \"Topic5\", \"Topic5\", \"Topic5\", \"Topic5\", \"Topic5\", \"Topic5\", \"Topic5\", \"Topic5\", \"Topic5\", \"Topic5\", \"Topic5\", \"Topic5\", \"Topic5\", \"Topic5\", \"Topic5\", \"Topic5\", \"Topic5\"], \"logprob\": [30.0, 29.0, 28.0, 27.0, 26.0, 25.0, 24.0, 23.0, 22.0, 21.0, 20.0, 19.0, 18.0, 17.0, 16.0, 15.0, 14.0, 13.0, 12.0, 11.0, 10.0, 9.0, 8.0, 7.0, 6.0, 5.0, 4.0, 3.0, 2.0, 1.0, -4.2465, -4.5829, -4.5829, -4.5829, -4.5829, -4.5829, -4.5829, -4.2465, -4.5829, -5.0938, -5.0938, -5.0938, -5.0938, -5.0938, -5.0938, -5.0938, -5.0938, -5.0938, -5.0938, -5.0938, -5.0938, -5.0938, -5.0938, -5.0938, -5.0938, -5.0938, -5.0938, -5.0938, -5.0938, -5.0938, -4.5829, -4.2465, -5.0938, -5.0937, -5.0937, -5.0937, -5.0937, -5.0937, -5.0937, -4.1109, -4.4473, -4.4473, -4.4473, -4.4473, -4.4473, -4.9582, -4.9582, -4.9582, -4.9582, -4.9582, -4.9582, -4.9582, -4.9582, -4.9582, -4.9582, -4.9582, -4.9582, -4.9582, -4.9582, -4.9582, -4.9582, -4.9582, -4.9582, -4.9582, -4.9582, -4.9582, -4.9582, -4.9582, -4.9582, -4.9582, -4.9582, -4.9582, -4.9582, -4.9582, -4.9582, -4.414, -4.414, -4.414, -4.9248, -4.9248, -4.9248, -4.9248, -4.9248, -4.9248, -4.9248, -4.9248, -4.9248, -4.9248, -4.9248, -4.9248, -4.9248, -4.9248, -4.9248, -4.9248, -4.9248, -4.9248, -4.9248, -4.9248, -4.9248, -4.9248, -4.9248, -4.9248, -4.9248, -4.9248, -4.9248, -4.414, -4.414, -4.9248, -4.9248, -4.9248, -4.414, -4.414, -4.414, -4.9248, -4.9248, -4.9248, -4.9248, -4.9248, -4.9248, -4.9248, -4.9248, -4.9248, -4.7679, -4.7679, -4.7679, -4.7679, -4.7679, -4.7679, -4.7679, -4.7679, -4.7679, -4.7679, -4.7679, -4.7679, -4.7679, -4.7679, -4.7679, -4.7679, -4.7679, -4.7679, -4.7679, -4.7679, -4.7679, -4.7679, -4.7679, -4.7679, -4.7679, -4.7679, -4.7679, -4.7679, -4.7679, -4.7679, -4.257, -4.7679, -4.7679, -4.7679, -4.7215, -4.7215, -4.7215, -4.7215, -4.7215, -4.7215, -4.7215, -4.7215, -4.7215, -4.7215, -4.7215, -4.7215, -4.7215, -4.7215, -4.7215, -4.7215, -4.7215, -4.7215, -4.7215, -4.7215, -4.7215, -4.7215, -4.7215, -4.7215, -4.7215, -4.7215, -4.7215, -4.7215, -3.8742, -4.7215, -4.7215, -4.7215, -4.7215], \"loglift\": [30.0, 29.0, 28.0, 27.0, 26.0, 25.0, 24.0, 23.0, 22.0, 21.0, 20.0, 19.0, 18.0, 17.0, 16.0, 15.0, 14.0, 13.0, 12.0, 11.0, 10.0, 9.0, 8.0, 7.0, 6.0, 5.0, 4.0, 3.0, 2.0, 1.0, 0.8148, 0.7109, 0.7109, 0.7109, 0.7109, 0.7109, 0.7109, 0.658, 0.523, 0.5036, 0.5036, 0.5036, 0.5036, 0.5036, 0.5036, 0.5036, 0.5036, 0.5036, 0.5036, 0.5036, 0.5036, 0.5036, 0.5036, 0.5036, 0.5036, 0.5036, 0.5036, 0.5036, 0.5036, 0.5036, 0.4196, 0.3274, 0.5036, 0.2488, 0.2488, 0.2488, 0.2488, -0.1116, 0.2568, 0.9655, 0.9465, 0.9465, 0.9465, 0.9465, 0.8182, 0.7059, 0.7059, 0.7059, 0.7059, 0.7059, 0.7059, 0.7059, 0.7059, 0.7059, 0.7059, 0.7059, 0.7059, 0.7059, 0.7059, 0.7059, 0.7059, 0.7059, 0.7059, 0.7059, 0.7059, 0.7059, 0.7059, 0.7059, 0.7059, 0.3844, 0.2931, 0.2621, 0.3844, 0.4441, 0.5138, 0.9967, 0.9967, 0.7809, 0.7502, 0.7502, 0.7502, 0.7502, 0.7502, 0.7502, 0.7502, 0.7502, 0.7502, 0.7502, 0.7502, 0.7502, 0.7502, 0.7502, 0.7502, 0.7502, 0.7502, 0.7502, 0.7502, 0.7502, 0.7502, 0.7502, 0.7502, 0.7502, 0.7502, 0.7502, 0.7502, 0.7387, 0.7125, 0.7502, 0.7502, 0.7502, 0.6566, 0.5681, 0.5681, 0.3265, 0.4257, 0.5835, 0.4774, 0.4257, 0.4257, -0.351, 0.4257, 0.4257, 0.9998, 0.9998, 0.9998, 0.9998, 0.9998, 0.9998, 0.9998, 0.9998, 0.9998, 0.9998, 0.9998, 0.9998, 0.9998, 0.9998, 0.9998, 0.9998, 0.9998, 0.9998, 0.9998, 0.9998, 0.9998, 0.9998, 0.9998, 0.9998, 0.9998, 0.9998, 0.9998, 0.9998, 0.9998, 0.9998, 0.8695, 0.4319, 0.3027, 0.7132, 1.0827, 1.0827, 1.0827, 1.0827, 1.0827, 1.0827, 1.0827, 1.0827, 1.0827, 1.0827, 1.0827, 1.0827, 1.0827, 1.0827, 1.0827, 1.0827, 1.0827, 1.0827, 1.0827, 1.0827, 1.0827, 1.0827, 1.0827, 1.0827, 1.0827, 0.7869, 0.7776, 0.7776, 0.6997, 0.5441, 0.4988, 0.2811, 0.3549]}, \"token.table\": {\"Topic\": [1, 1, 3, 2, 1, 1, 2, 3, 2, 2, 2, 1, 2, 2, 2, 3, 1, 3, 1, 1, 2, 1, 3, 2, 1, 3, 1, 2, 1, 2, 2, 3, 1, 3, 1, 2, 3, 2, 3, 1, 3, 2, 1, 2, 3, 2, 1, 2, 3, 3, 3, 3, 1, 2, 1, 3, 3, 2, 3, 3, 2, 1, 2, 1, 2, 1, 2, 1, 2, 3, 2, 1, 1, 1, 1, 1, 3, 3, 3, 1, 3, 3, 1, 2, 1, 3, 3, 3, 2, 3, 2, 3, 1, 2, 2, 1, 2, 3, 5, 2, 1, 3, 1, 2, 1, 1, 3, 1, 2, 3, 1, 2, 3, 2, 2, 2, 1, 3, 1, 2, 2, 1, 2, 2, 3, 2, 3, 1, 3, 2, 3, 1, 1, 3, 1, 1, 2, 3, 2, 1, 2, 1, 3, 2, 1, 3, 3, 3, 3, 3, 3, 2, 3, 4], \"Freq\": [0.5821466264499998, 0.616132249899514, 0.616132249899514, 0.643437236369938, 0.7886216177263824, 0.4262660754889369, 0.4262660754889369, 0.4262660754889369, 0.8430128154518429, 0.6434372249505583, 0.8430128114082439, 0.7886216177263824, 0.8430128114082439, 0.8430128200843243, 0.4656945719422421, 0.4656945719422421, 0.7886216177263824, 0.8523092139119288, 0.7886216177263824, 0.5409049270629952, 0.5409049270629952, 0.616132315941314, 0.616132315941314, 0.8430128200843243, 0.7886216177263824, 0.8523092139119288, 0.6112593303362243, 0.6112593303362243, 0.611259246887944, 0.611259246887944, 0.6488389277962224, 0.6488389277962224, 0.7886216177263824, 0.8523092139119288, 0.7886216177263824, 0.8430128154518429, 0.8523092139119288, 0.64883890598175, 0.64883890598175, 0.7886216177263824, 0.8523092195400196, 0.8430128114082439, 0.5821465722344008, 0.8430128114082439, 0.8523092195400196, 0.8430128200843243, 0.7886216177263824, 0.8430128154518429, 0.8523092195400196, 0.8523092139119288, 0.8523092096044064, 0.8523092195400196, 0.7886216177263824, 0.4684119969610329, 0.6161321883022356, 0.6161321883022356, 0.8523092139119288, 0.8430128200843243, 0.8523092096044064, 0.8523092195400196, 0.6957274646401741, 0.6112592875384072, 0.6112592875384072, 0.7886216177263824, 0.8430128154518429, 0.61126058508576, 0.61126058508576, 0.7886216177263824, 0.5579303196461167, 0.5579303196461167, 0.8430128200843243, 0.7886216177263824, 0.7886216177263824, 0.7886216177263824, 0.7886216177263824, 0.7886216177263824, 0.8523092195400196, 0.8523092195400196, 0.8523092096044064, 0.4824453885276178, 0.4824453885276178, 0.721463413131663, 0.5299168489461478, 0.5299168489461478, 0.7886216177263824, 0.8523092139119288, 0.8523092195400196, 0.8523092096044064, 0.8430128114082439, 0.8523092096044064, 0.5273683954506645, 0.5273683954506645, 0.4350662948855041, 0.4350662948855041, 0.5659498653641222, 0.5667643812111361, 0.2833821906055681, 0.2833821906055681, 0.2833821906055681, 0.8430128154518429, 0.6161322697931536, 0.6161322697931536, 0.5821465529167323, 0.8430128154518429, 0.5821466178134674, 0.7886216177263824, 0.8523092195400196, 0.9227112095326899, 0.6434373559130544, 0.6543319970072633, 0.42626607259634863, 0.42626607259634863, 0.42626607259634863, 0.8430128200843243, 0.8430128154518429, 0.8430128114082439, 0.6161322533621136, 0.6161322533621136, 0.6112594146046862, 0.6112594146046862, 0.8430128200843243, 0.788812411899302, 0.394406205949651, 0.8430128200843243, 0.8523092096044064, 0.7147916279199987, 0.8523092096044064, 0.5055557237232505, 0.5055557237232505, 0.8430128114082439, 0.8523092096044064, 0.7886216177263824, 0.7886216177263824, 0.8523092195400196, 0.7886216177263824, 0.6112593917699375, 0.6112593917699375, 0.8523092139119288, 0.8430128114082439, 0.5821465915520952, 0.6434372249505583, 0.5821465529167323, 0.8523092195400196, 0.8430128154518429, 0.6161326241737808, 0.6161326241737808, 0.8523092096044064, 0.8523092139119288, 0.65433199351032, 0.8523092139119288, 0.7020471730101601, 0.7147917789330768, 0.492484182725676, 0.492484182725676], \"Term\": [\"aktuell\", \"alltag\", \"alltag\", \"analyse\", \"aprogrammierer\", \"arbeit\", \"arbeit\", \"arbeit\", \"arbeitsalltag\", \"arbeitspl\\u00e4tzen\", \"arbeitswelt\", \"ausf\\u00fchren\", \"auswirkung\", \"auto\", \"automatisieren\", \"automatisieren\", \"basieren\", \"basis\", \"behindern\", \"bereich\", \"bereich\", \"bestimmen\", \"bestimmen\", \"betrinken\", \"computer\", \"cyber-kriminalit\\u00e4t\", \"datenmengen\", \"datenmengen\", \"datenschutz\", \"datenschutz\", \"datum\", \"datum\", \"echt\", \"effizienz\", \"effizienzgewinne\", \"einfluss\", \"einschr\\u00e4nkung\", \"einsetzen\", \"einsetzen\", \"einzelfallbeobachtung\", \"empathie\", \"entlastung\", \"entscheidung\", \"entsprechend\", \"erg\\u00e4nzung\", \"erhalten\", \"erkenntnis\", \"erleichtern\", \"ersatz\", \"ersparnis\", \"etc\", \"fehlen\", \"fehlentscheidung\", \"fehler\", \"fortschritt\", \"fortschritt\", \"freiheit\", \"freizeit/\", \"fr\\u00fcherkennung\", \"furcht\", \"gefahr\", \"generell\", \"generell\", \"genialit\\u00e4t\", \"gesundheit\", \"gl\\u00e4serne\", \"gl\\u00e4serne\", \"gro\\u00df\", \"gut\", \"gut\", \"haus\", \"hoch\", \"h\\u00e4ufig\", \"induktion\", \"intelligent\", \"intelligenz\", \"kis\", \"kompetenz\", \"konsequenz\", \"kontrolle\", \"kontrolle\", \"krankheit\", \"k\\u00f6nnen\", \"k\\u00f6nnen\", \"k\\u00fcnstliche\", \"langweilig\", \"lieben\", \"llund\", \"l\\u00e4stig\", \"l\\u00f6sen\", \"l\\u00f6sung\", \"l\\u00f6sung\", \"maschine\", \"maschine\", \"medizin\", \"mensch\", \"mensch\", \"mensch\", \"mensch\", \"menschens\", \"menschlich\", \"menschlich\", \"menschliche\", \"m\\u00f6glicherweise\", \"nutzen\", \"objektivit\\u00e4t\", \"perfekte\", \"pers\\u00f6nlich\", \"privatsph\\u00e4re\", \"problem\", \"proze\\u00df\", \"proze\\u00df\", \"proze\\u00df\", \"qualitytime\", \"riskant\", \"routineaufgaben\", \"schnell\", \"schnell\", \"schnelligkeit\", \"schnelligkeit\", \"sch\\u00f6n\", \"sehen\", \"sehen\", \"selbstst\\u00e4ndig\", \"strafverfolgung\", \"system\", \"totale\", \"t\\u00e4tigkeit\", \"t\\u00e4tigkeit\", \"umstrukturierung\", \"umweltkrisen\", \"unfehlbar\", \"unfehlbarkeit\", \"unterst\\u00fctzung\", \"verarbeitung\", \"vereinfachen\", \"vereinfachen\", \"verf\\u00fcgbar\", \"verlust\", \"vermeidung\", \"verselbstst\\u00e4ndigung\", \"vertrauen\", \"verwenden\", \"vorgang\", \"weder\", \"weder\", \"weitreichend\", \"wesentlich\", \"wichtig\", \"zeitfressern\", \"zum beispiel\", \"\\u00fcbernehmen\", \"\\u00fcberwachung\", \"\\u00fcberwachung\"]}, \"R\": 30, \"lambda.step\": 0.01, \"plot.opts\": {\"xlab\": \"PC1\", \"ylab\": \"PC2\"}, \"topic.order\": [5, 2, 1, 4, 3]};\n",
       "\n",
       "function LDAvis_load_lib(url, callback){\n",
       "  var s = document.createElement('script');\n",
       "  s.src = url;\n",
       "  s.async = true;\n",
       "  s.onreadystatechange = s.onload = callback;\n",
       "  s.onerror = function(){console.warn(\"failed to load library \" + url);};\n",
       "  document.getElementsByTagName(\"head\")[0].appendChild(s);\n",
       "}\n",
       "\n",
       "if(typeof(LDAvis) !== \"undefined\"){\n",
       "   // already loaded: just create the visualization\n",
       "   !function(LDAvis){\n",
       "       new LDAvis(\"#\" + \"ldavis_el32801397599287496564883008065\", ldavis_el32801397599287496564883008065_data);\n",
       "   }(LDAvis);\n",
       "}else if(typeof define === \"function\" && define.amd){\n",
       "   // require.js is available: use it to load d3/LDAvis\n",
       "   require.config({paths: {d3: \"https://cdnjs.cloudflare.com/ajax/libs/d3/3.5.5/d3.min\"}});\n",
       "   require([\"d3\"], function(d3){\n",
       "      window.d3 = d3;\n",
       "      LDAvis_load_lib(\"https://cdn.rawgit.com/bmabey/pyLDAvis/files/ldavis.v1.0.0.js\", function(){\n",
       "        new LDAvis(\"#\" + \"ldavis_el32801397599287496564883008065\", ldavis_el32801397599287496564883008065_data);\n",
       "      });\n",
       "    });\n",
       "}else{\n",
       "    // require.js not available: dynamically load d3 & LDAvis\n",
       "    LDAvis_load_lib(\"https://cdnjs.cloudflare.com/ajax/libs/d3/3.5.5/d3.min.js\", function(){\n",
       "         LDAvis_load_lib(\"https://cdn.rawgit.com/bmabey/pyLDAvis/files/ldavis.v1.0.0.js\", function(){\n",
       "                 new LDAvis(\"#\" + \"ldavis_el32801397599287496564883008065\", ldavis_el32801397599287496564883008065_data);\n",
       "            })\n",
       "         });\n",
       "}\n",
       "</script>"
      ],
      "text/plain": [
       "PreparedData(topic_coordinates=              x         y  topics  cluster       Freq\n",
       "topic                                                \n",
       "4      0.062958  0.000949       1        1  32.152828\n",
       "1     -0.025073  0.044080       2        1  22.968816\n",
       "0     -0.020277 -0.044492       3        1  21.434530\n",
       "3     -0.016254 -0.009569       4        1  12.959991\n",
       "2     -0.001353  0.009032       5        1  10.483835, topic_info=            Term      Freq     Total Category  logprob  loglift\n",
       "164       mensch  3.000000  3.000000  Default  30.0000  30.0000\n",
       "266  überwachung  2.000000  2.000000  Default  29.0000  29.0000\n",
       "95        fehler  2.000000  2.000000  Default  28.0000  28.0000\n",
       "161      medizin  1.000000  1.000000  Default  27.0000  27.0000\n",
       "145    krankheit  1.000000  1.000000  Default  26.0000  26.0000\n",
       "..           ...       ...       ...      ...      ...      ...\n",
       "164       mensch  0.744766  3.528803   Topic5  -3.8742   0.6997\n",
       "161      medizin  0.319181  1.766941   Topic5  -4.7215   0.5441\n",
       "36       bereich  0.319182  1.848754   Topic5  -4.7215   0.4988\n",
       "160     maschine  0.319181  2.298500   Topic5  -4.7215   0.2811\n",
       "95        fehler  0.319181  2.134873   Topic5  -4.7215   0.3549\n",
       "\n",
       "[219 rows x 6 columns], token_table=      Topic      Freq            Term\n",
       "term                                 \n",
       "6         1  0.582147         aktuell\n",
       "8         1  0.616132          alltag\n",
       "8         3  0.616132          alltag\n",
       "9         2  0.643437         analyse\n",
       "12        1  0.788622  aprogrammierer\n",
       "...     ...       ...             ...\n",
       "259       3  0.852309    zeitfressern\n",
       "260       3  0.702047    zum beispiel\n",
       "265       2  0.714792      übernehmen\n",
       "266       3  0.492484     überwachung\n",
       "266       4  0.492484     überwachung\n",
       "\n",
       "[154 rows x 3 columns], R=30, lambda_step=0.01, plot_opts={'xlab': 'PC1', 'ylab': 'PC2'}, topic_order=[5, 2, 1, 4, 3])"
      ]
     },
     "execution_count": 40,
     "metadata": {},
     "output_type": "execute_result"
    }
   ],
   "source": [
    "numberOfTopics = 5\n",
    "alpha = 0.5 # the higher the more topics in one document\n",
    "beta = 0.1 # the higher the more words of the corpus are in the topic\n",
    "\n",
    "#call the lda object\n",
    "lda_sk = LatentDirichletAllocation(n_components=numberOfTopics, doc_topic_prior=beta, topic_word_prior=alpha, random_state=1)\n",
    "#fitting\n",
    "lda_sk.fit(bow_corpus_sk)\n",
    "\n",
    "# pyLDAvis\n",
    "vis_sk = pyLDAvis.sklearn.prepare(lda_sk, bow_corpus_sk, cV)\n",
    "vis_sk\n"
   ]
  },
  {
   "cell_type": "code",
   "execution_count": 41,
   "metadata": {},
   "outputs": [],
   "source": [
    "# prepare to populate a pandas dataframe\n",
    "\n",
    "# probability of each word in a topic\n",
    "wordPerTopic_sk = pd.DataFrame(lda_sk.components_, index=[\"topic\"+str(num) for num in range(lda_sk.n_components)], columns = cV.get_feature_names())\n",
    "\n",
    "# top words for each topic\n",
    "top = 5\n",
    "topWordPerTopic_sk = pd.DataFrame([[name, rows.sort_values(ascending = False).index.tolist()[:top]] for name, rows in wordPerTopic_sk.iterrows()])\n",
    "\n",
    "# probability of each topic per document\n",
    "topicPerDoc_sk = pd.DataFrame(lda_sk.transform(bow_corpus_sk), index = [\"commentary\" + str(i) for i in range(len(final2))], columns = [\"topic\" + str(i) for i in range(lda_sk.n_components)])\n",
    "\n",
    "topTopicPerDoc_sk = topicPerDoc_sk.T.apply(lambda x: x.idxmax())\n",
    "\n",
    "# merge different parts\n",
    "merged = pd.DataFrame(topTopicPerDoc_sk).merge(topWordPerTopic_sk, how=\"left\")\n",
    "merged = pd.concat([merged, pd.Series(text_list)], axis = 1)\n",
    "\n",
    "# rename\n",
    "merged.columns = [\"topic\", \"words\", \"text\"]\n",
    "\n",
    "#split words in seperate cols\n",
    "merged[[\"word\" + str(n) for n in range(top)]] = pd.DataFrame(merged[\"words\"].tolist())\n",
    "newSorting = [\"topic\"] + [\"word\"+str(i) for i in range(top)] + [\"text\"]\n",
    "merged = merged.loc[:, newSorting]"
   ]
  },
  {
   "cell_type": "code",
   "execution_count": 42,
   "metadata": {},
   "outputs": [
    {
     "data": {
      "text/plain": [
       "array([[0.04000155, 0.83998788, 0.0400019 , 0.04000181, 0.04000686],\n",
       "       [0.00689681, 0.00689701, 0.97241253, 0.00689681, 0.00689684],\n",
       "       [0.01818495, 0.92726596, 0.01818314, 0.01818265, 0.01818331],\n",
       "       [0.01052705, 0.95789247, 0.01052702, 0.01052679, 0.01052666],\n",
       "       [0.00689724, 0.97241137, 0.00689719, 0.00689719, 0.00689701],\n",
       "       [0.04000416, 0.04001162, 0.04001219, 0.04000185, 0.83997018],\n",
       "       [0.00740784, 0.00740791, 0.00740782, 0.0074078 , 0.97036863],\n",
       "       [0.00645222, 0.97419171, 0.00645211, 0.00645204, 0.00645192],\n",
       "       [0.02222432, 0.022223  , 0.9111066 , 0.02222317, 0.0222229 ],\n",
       "       [0.01818372, 0.01818289, 0.01818267, 0.01818263, 0.92726809],\n",
       "       [0.00606113, 0.006061  , 0.00606111, 0.0060609 , 0.97575587],\n",
       "       [0.97036898, 0.00740768, 0.00740776, 0.00740774, 0.00740784],\n",
       "       [0.02222325, 0.911104  , 0.02222348, 0.02222342, 0.02222586],\n",
       "       [0.00869592, 0.00869608, 0.00869598, 0.00869597, 0.96521605],\n",
       "       [0.01052702, 0.95788997, 0.01052807, 0.01052715, 0.0105278 ],\n",
       "       [0.00512898, 0.00512869, 0.00512851, 0.0051285 , 0.97948532],\n",
       "       [0.0029853 , 0.00298521, 0.0029852 , 0.98805911, 0.00298518],\n",
       "       [0.01538518, 0.01538575, 0.01538531, 0.93845867, 0.01538509],\n",
       "       [0.01538516, 0.01538514, 0.93845938, 0.01538526, 0.01538507],\n",
       "       [0.975756  , 0.00606097, 0.00606088, 0.006061  , 0.00606115],\n",
       "       [0.00869603, 0.00869728, 0.96521409, 0.00869596, 0.00869664],\n",
       "       [0.01052675, 0.95789125, 0.01052765, 0.01052682, 0.01052753],\n",
       "       [0.02222578, 0.02222425, 0.02222313, 0.91110399, 0.02222285],\n",
       "       [0.00800066, 0.00800084, 0.00800101, 0.00800068, 0.96799681],\n",
       "       [0.97837668, 0.00540582, 0.00540574, 0.00540605, 0.0054057 ],\n",
       "       [0.00298529, 0.00298528, 0.00298527, 0.00298523, 0.98805893],\n",
       "       [0.97241153, 0.00689694, 0.0068974 , 0.00689687, 0.00689725],\n",
       "       [0.00740805, 0.97036814, 0.0074078 , 0.00740778, 0.00740823],\n",
       "       [0.96799796, 0.0080008 , 0.00800033, 0.00800031, 0.00800061]])"
      ]
     },
     "execution_count": 42,
     "metadata": {},
     "output_type": "execute_result"
    }
   ],
   "source": [
    "lda_sk.transform(bow_corpus_sk)"
   ]
  },
  {
   "cell_type": "code",
   "execution_count": null,
   "metadata": {},
   "outputs": [],
   "source": []
  },
  {
   "cell_type": "code",
   "execution_count": null,
   "metadata": {},
   "outputs": [],
   "source": []
  },
  {
   "cell_type": "code",
   "execution_count": 157,
   "metadata": {},
   "outputs": [
    {
     "data": {
      "text/html": [
       "<div>\n",
       "<style scoped>\n",
       "    .dataframe tbody tr th:only-of-type {\n",
       "        vertical-align: middle;\n",
       "    }\n",
       "\n",
       "    .dataframe tbody tr th {\n",
       "        vertical-align: top;\n",
       "    }\n",
       "\n",
       "    .dataframe thead th {\n",
       "        text-align: right;\n",
       "    }\n",
       "</style>\n",
       "<table border=\"1\" class=\"dataframe\">\n",
       "  <thead>\n",
       "    <tr style=\"text-align: right;\">\n",
       "      <th></th>\n",
       "      <th>topic</th>\n",
       "      <th>word0</th>\n",
       "      <th>word1</th>\n",
       "      <th>word2</th>\n",
       "      <th>word3</th>\n",
       "      <th>word4</th>\n",
       "      <th>text</th>\n",
       "    </tr>\n",
       "  </thead>\n",
       "  <tbody>\n",
       "    <tr>\n",
       "      <th>0</th>\n",
       "      <td>topic1</td>\n",
       "      <td>fehler</td>\n",
       "      <td>medizin</td>\n",
       "      <td>verselbstständigung</td>\n",
       "      <td>arbeitsplätzen</td>\n",
       "      <td>analyse</td>\n",
       "      <td>Risiko Datenschutz + Privatsphäre</td>\n",
       "    </tr>\n",
       "    <tr>\n",
       "      <th>1</th>\n",
       "      <td>topic2</td>\n",
       "      <td>mensch</td>\n",
       "      <td>übernehmen</td>\n",
       "      <td>bereich</td>\n",
       "      <td>system</td>\n",
       "      <td>maschine</td>\n",
       "      <td>Chancen: Sicherheit, Prävention\\nRisiken: der ...</td>\n",
       "    </tr>\n",
       "    <tr>\n",
       "      <th>2</th>\n",
       "      <td>topic1</td>\n",
       "      <td>fehler</td>\n",
       "      <td>medizin</td>\n",
       "      <td>verselbstständigung</td>\n",
       "      <td>arbeitsplätzen</td>\n",
       "      <td>analyse</td>\n",
       "      <td>Chancen: Minimierung von Fehlern\\nRisiken: \"En...</td>\n",
       "    </tr>\n",
       "    <tr>\n",
       "      <th>3</th>\n",
       "      <td>topic1</td>\n",
       "      <td>fehler</td>\n",
       "      <td>medizin</td>\n",
       "      <td>verselbstständigung</td>\n",
       "      <td>arbeitsplätzen</td>\n",
       "      <td>analyse</td>\n",
       "      <td>Analyse von vielen unstrukturierten und auf de...</td>\n",
       "    </tr>\n",
       "    <tr>\n",
       "      <th>4</th>\n",
       "      <td>topic1</td>\n",
       "      <td>fehler</td>\n",
       "      <td>medizin</td>\n",
       "      <td>verselbstständigung</td>\n",
       "      <td>arbeitsplätzen</td>\n",
       "      <td>analyse</td>\n",
       "      <td>KI könnte den Arbeitsalltag erleichtern, indem...</td>\n",
       "    </tr>\n",
       "  </tbody>\n",
       "</table>\n",
       "</div>"
      ],
      "text/plain": [
       "    topic   word0       word1                word2           word3     word4  \\\n",
       "0  topic1  fehler     medizin  verselbstständigung  arbeitsplätzen   analyse   \n",
       "1  topic2  mensch  übernehmen              bereich          system  maschine   \n",
       "2  topic1  fehler     medizin  verselbstständigung  arbeitsplätzen   analyse   \n",
       "3  topic1  fehler     medizin  verselbstständigung  arbeitsplätzen   analyse   \n",
       "4  topic1  fehler     medizin  verselbstständigung  arbeitsplätzen   analyse   \n",
       "\n",
       "                                                text  \n",
       "0                  Risiko Datenschutz + Privatsphäre  \n",
       "1  Chancen: Sicherheit, Prävention\\nRisiken: der ...  \n",
       "2  Chancen: Minimierung von Fehlern\\nRisiken: \"En...  \n",
       "3  Analyse von vielen unstrukturierten und auf de...  \n",
       "4  KI könnte den Arbeitsalltag erleichtern, indem...  "
      ]
     },
     "execution_count": 157,
     "metadata": {},
     "output_type": "execute_result"
    }
   ],
   "source": [
    "merged.head()"
   ]
  },
  {
   "cell_type": "markdown",
   "metadata": {},
   "source": [
    "## sklearn NMF"
   ]
  },
  {
   "cell_type": "code",
   "execution_count": 144,
   "metadata": {},
   "outputs": [],
   "source": [
    "from sklearn.feature_extraction.text import TfidfVectorizer\n",
    "from sklearn.decomposition import NMF"
   ]
  },
  {
   "cell_type": "code",
   "execution_count": 161,
   "metadata": {},
   "outputs": [],
   "source": [
    "tfidf_vectorizer=TfidfVectorizer(preprocessor=dummy, tokenizer=dummy)"
   ]
  },
  {
   "cell_type": "code",
   "execution_count": 162,
   "metadata": {},
   "outputs": [],
   "source": [
    "tfidf = tfidf_vectorizer.fit(final2)\n",
    "tfidf_transformed = tfidf.transform(final2)\n",
    "tfidf_names = tfidf.get_feature_names()"
   ]
  },
  {
   "cell_type": "code",
   "execution_count": 163,
   "metadata": {},
   "outputs": [
    {
     "data": {
      "text/html": [
       "\n",
       "<link rel=\"stylesheet\" type=\"text/css\" href=\"https://cdn.rawgit.com/bmabey/pyLDAvis/files/ldavis.v1.0.0.css\">\n",
       "\n",
       "\n",
       "<div id=\"ldavis_el25431405951628677766445703930\"></div>\n",
       "<script type=\"text/javascript\">\n",
       "\n",
       "var ldavis_el25431405951628677766445703930_data = {\"mdsDat\": {\"x\": [-0.2693930681335053, -0.10070932245247093, 0.370102390585976], \"y\": [0.22757615997856268, -0.30911278710524454, 0.08153662712668183], \"topics\": [1, 2, 3], \"cluster\": [1, 1, 1], \"Freq\": [44.13118383012585, 40.756974262591086, 15.111841907283058]}, \"tinfo\": {\"Term\": [\"sehen\", \"pers\\u00f6nlich\", \"mensch\", \"gl\\u00e4serne\", \"aktuell\", \"keinerlei\", \"meinung\", \"weder\", \"privatsph\\u00e4re\", \"\\u00fcberwachung\", \"gut\", \"automatisieren\", \"nutzen\", \"w\\u00fcsste\", \"bewu\\u00dft\", \"insofern\", \"aktiv\", \"gefahr\", \"abschaffung\", \"sicherheitsl\\u00fccken\", \"datenboost\", \"proze\\u00df\", \"versorgung\", \"medizinische\", \"maschine\", \"krankheit\", \"schnell\", \"arbeit\", \"erleichertung\", \"ops\", \"unterst\\u00fctzung\", \"verwenden\", \"fehlen\", \"ersatz\", \"erg\\u00e4nzung\", \"kis\", \"empathie\", \"kompetenz\", \"furcht\", \"perfekte\", \"lieben\", \"kurz\", \"genau\", \"passieren\", \"helfen\", \"hinterher\", \"mensch\", \"hirn\", \"privatsph\\u00e4re\", \"routenf\\u00fchrung\", \"pr\\u00e4vention\", \"sicherheitsl\\u00fccken\", \"sicherheit\", \"gef\\u00e4hrden\", \"schnellen\", \"komfort\", \"handlungsunf\\u00e4hig\", \"verstehem\", \"datenboost\", \"zusammenhang\", \"gl\\u00e4serne\", \"gefahr\", \"abschaffung\", \"maschine\", \"divers\", \"ops\", \"erleichertung\", \"ersetzt\", \"wissenschaft\", \"\\u00fcbernehmen\", \"menschlich\", \"benutzen\", \"etc.\", \"autofahren\", \"ausf\\u00e4llen\", \"einparken\", \"vermeidung\", \"verdr\\u00e4ngung\", \"b.\", \"\\u00e4rztlich\", \"ausgleichen\", \"soziale\", \"versorgungsl\\u00fccken\", \"k\\u00e4lte\", \"arbeitsmarkt\", \"arbeitspl\\u00e4tzen\", \"verselbstst\\u00e4ndigung\", \"bereich\", \"medizin\", \"datenschutz\", \"fehler\", \"krankheit\", \"\\u00fcberwachung\", \"kr\\u00e4fteverh\\u00e4ltnisse\", \"getrennt\", \"hinterfragen\", \"individualisierung\", \"input-quellen/infomationen\", \"jobverluste\", \"klein\", \"klugschei\\u00dfer-input\", \"konsequenz\", \"zus\\u00e4tzlich\", \"langweilig\", \"freiheit\", \"leben\", \"leicht\", \"leisten\", \"llund\", \"l\\u00f6sen\", \"medizinische\", \"minimierung\", \"mi\\u00dfbrauchen\", \"multi\", \"nachteil\", \"fr\\u00fcherkennung\", \"fleck\", \"pros\", \"dhaben\", \"alalogen\", \"alltag\", \"automatisieren\", \"versorgung\", \"gut\", \"schnell\", \"zum beispiel\", \"weitreichend\", \"etc\", \"strafverfolgung\", \"totale\", \"umweltkrisen\", \"entmenschlichung\", \"verf\\u00fcgbar\", \"cyber-kriminalit\\u00e4t\", \"basis\", \"ersparnis\", \"zeitfressern\", \"wesentlich\", \"einschr\\u00e4nkung\", \"proze\\u00df\", \"effizienz\", \"arbeit\", \"datum\", \"l\\u00f6sung\", \"einsetzen\", \"fehler\", \"problem\", \"k\\u00f6nnen\", \"medizin\", \"insofern\", \"aktiv\", \"pers\\u00f6nlich\", \"meinung\", \"keinerlei\", \"aktuell\", \"sehen\", \"bewu\\u00dft\", \"w\\u00fcsste\", \"nutzen\", \"zustand\", \"freizeit/\", \"sch\\u00f6n\", \"betrinken\", \"erhalten\", \"auto\", \"qualitytime\", \"haus\", \"bringen\", \"selbstst\\u00e4ndig\", \"abnehmen\", \"weder\", \"normal\", \"handeln\", \"hand\", \"gefahrenanf\\u00e4llig\", \"geben\", \"freund\", \"freiwillig\", \"vllt\", \"passt\", \"vereinfachen\", \"entziehen\", \"problem\", \"arbeit\", \"l\\u00f6sung\"], \"Freq\": [1.0, 1.0, 3.0, 3.0, 0.0, 0.0, 0.0, 0.0, 1.0, 1.0, 1.0, 1.0, 0.0, 0.0, 0.0, 0.0, 0.0, 0.0, 0.0, 0.0, 0.0, 1.0, 0.0, 0.0, 0.0, 0.0, 0.0, 0.0, 0.0, 0.0, 0.26474793354886317, 0.26474793354886317, 0.26474793354886317, 0.26474793354886317, 0.26474793354886317, 0.26474793354886317, 0.26474793354886317, 0.26474793354886317, 0.26474793354886317, 0.26474793354886317, 0.26474793354886317, 1.3778389304415368e-14, 0.1840269728567759, 0.1840269728567759, 0.14419924952422655, 0.2673870654573831, 3.672262691285162, 0.2673870654573831, 1.4028939968302252, 0.2673870654573831, 0.2673870654573831, 0.9348364961959476, 0.2673870654573831, 0.14419924952422655, 0.14419924952422655, 0.1840269728567759, 0.2673870654573831, 1.3778389304415368e-14, 0.9348364961959476, 1.3778389304415368e-14, 3.0589960469702095, 0.9965188208322413, 0.9348364961959476, 0.7394541769223517, 0.656919757866765, 0.656919757866765, 0.656919757866765, 0.656919757866765, 0.656919757866765, 0.36658048155188605, 0.43526561265790126, 0.2673870654573831, 0.2673870654573831, 0.2673870654573831, 0.2673870654573831, 0.2673870654573831, 0.4479053257496293, 0.3604036459960182, 0.3604036459960182, 0.3604036459960182, 0.3604036459960182, 0.3604036459960182, 0.3604036459960182, 0.3604036459960182, 0.3604036459960182, 0.9533138860491549, 0.9533138860491549, 0.8900151053989396, 0.6429544437884215, 0.5472908209742058, 0.6317657338323385, 0.6613885509828538, 1.2737009344134622, 0.17504601530841152, 0.17504601530841152, 0.24075139040583587, 0.24075139040583587, 0.17504601530841152, 0.4663804889892896, 0.17504601530841152, 0.17504601530841152, 0.49004679187397565, 0.17504601530841152, 0.265856168727753, 0.265856168727753, 0.2525417805389537, 0.17504601530841152, 0.17504601530841152, 0.49004679187397565, 0.49004679187397565, 0.7607966984770039, 0.4663804889892896, 0.17504601530841152, 0.17504601530841152, 0.17504601530841152, 0.49004679187397565, 0.24075139040583587, 0.17504601530841152, 0.17504601530841152, 0.17504601530841152, 0.4512114135605177, 1.1583074344587307, 0.7607966984770039, 1.1952765989344085, 0.6508874076373173, 0.5923667348962002, 0.49004679187397565, 0.49004679187397565, 0.49004679187397565, 0.49004679187397565, 0.49004679187397565, 0.4663804889892896, 0.265856168727753, 0.265856168727753, 0.265856168727753, 0.265856168727753, 0.265856168727753, 0.265856168727753, 0.265856168727753, 1.0402189322288118, 0.265856168727753, 0.7759062718969464, 0.31759324447899956, 0.5174951752769363, 0.40061035594407207, 0.7113537673025423, 0.3659009384364552, 0.3589807366524292, 0.2874719791419779, 0.48050306626113043, 0.48050306626113043, 1.653794921158411, 0.8958285643314728, 0.8958285643314728, 0.9610061325222609, 1.6947017078083828, 0.48050306626113043, 0.48050306626113043, 0.49777087551912735, 0.22657233890813414, 0.22657233890813414, 0.22657233890813414, 0.22657233890813414, 0.22657233890813414, 0.22657233890813414, 0.22657233890813414, 0.22657233890813414, 0.22657233890813414, 0.22657233890813414, 0.22657233890813414, 0.8663451288431943, 0.07832356092723584, 0.07832356092723584, 0.07832356092723584, 0.07832356092723584, 0.07832356092723584, 0.07832356092723584, 0.07832356092723584, 0.07832356092723584, 0.07832356092723584, 0.10652847217032652, 0.07832356092723584, 0.15150993271827634, 0.14946226518048197, 0.12938479210637424], \"Total\": [1.0, 1.0, 3.0, 3.0, 0.0, 0.0, 0.0, 0.0, 1.0, 1.0, 1.0, 1.0, 0.0, 0.0, 0.0, 0.0, 0.0, 0.0, 0.0, 0.0, 0.0, 1.0, 0.0, 0.0, 0.0, 0.0, 0.0, 0.0, 0.0, 0.0, 0.26474793354886317, 0.26474793354886317, 0.26474793354886317, 0.26474793354886317, 0.26474793354886317, 0.26474793354886317, 0.26474793354886317, 0.26474793354886317, 0.26474793354886317, 0.26474793354886317, 0.26474793354886317, 1.3778389304415368e-14, 0.1840269728567759, 0.1840269728567759, 0.14419924952422655, 0.2673870654573831, 3.672262691285162, 0.2673870654573831, 1.4028939968302252, 0.2673870654573831, 0.2673870654573831, 0.9348364961959476, 0.2673870654573831, 0.14419924952422655, 0.14419924952422655, 0.1840269728567759, 0.2673870654573831, 1.3778389304415368e-14, 0.9348364961959476, 1.3778389304415368e-14, 3.0589960469702095, 0.9965188208322413, 0.9348364961959476, 0.7398787809416111, 0.656919757866765, 0.656919757866765, 0.656919757866765, 0.656919757866765, 0.656919757866765, 0.36658048155188605, 0.43722906641886017, 0.2673870654573831, 0.2673870654573831, 0.2673870654573831, 0.2673870654573831, 0.2673870654573831, 0.45340502341083394, 0.3645001702203447, 0.3645001702203447, 0.3645001702203447, 0.3645001702203447, 0.3645001702203447, 0.3645001702203447, 0.3645001702203447, 0.3645001702203447, 1.100615796300173, 1.100615796300173, 1.1048228439198629, 0.9304264229303993, 0.7808198563920079, 1.3431195011348809, 0.6613885509828538, 1.2737009344134622, 0.17504601530841152, 0.17504601530841152, 0.24075139040583587, 0.24075139040583587, 0.17504601530841152, 0.4663804889892896, 0.17504601530841152, 0.17504601530841152, 0.49004679187397565, 0.17504601530841152, 0.265856168727753, 0.265856168727753, 0.2525417805389537, 0.17504601530841152, 0.17504601530841152, 0.49004679187397565, 0.49004679187397565, 0.7607966984770039, 0.4663804889892896, 0.17504601530841152, 0.17504601530841152, 0.17504601530841152, 0.49004679187397565, 0.24075139040583587, 0.17504601530841152, 0.17504601530841152, 0.17504601530841152, 0.4512114135605177, 1.1583074344587307, 0.7607966984770039, 1.2010420036816059, 0.6508874076373173, 0.5923667348962002, 0.49004679187397565, 0.49004679187397565, 0.49004679187397565, 0.49004679187397565, 0.49004679187397565, 0.4663804889892896, 0.265856168727753, 0.265856168727753, 0.265856168727753, 0.265856168727753, 0.265856168727753, 0.265856168727753, 0.265856168727753, 1.071883430998057, 0.265856168727753, 0.9253685370774284, 0.344548657811479, 0.7303219780625227, 0.5134722199454658, 1.3431195011348809, 0.5174108711547316, 0.7006818967321183, 0.9304264229303993, 0.48050306626113043, 0.48050306626113043, 1.653794921158411, 0.8958285643314728, 0.8958285643314728, 0.9610061325222609, 1.6947017078083828, 0.48050306626113043, 0.48050306626113043, 0.5063876895486334, 0.2592353738227286, 0.2592353738227286, 0.2592353738227286, 0.2592353738227286, 0.2592353738227286, 0.2592353738227286, 0.2592353738227286, 0.2592353738227286, 0.2592353738227286, 0.2592353738227286, 0.2592353738227286, 0.9936638358634442, 0.0926719509765533, 0.0926719509765533, 0.0926719509765533, 0.0926719509765533, 0.0926719509765533, 0.0926719509765533, 0.0926719509765533, 0.0926719509765533, 0.0926719509765533, 0.13560385377134027, 0.0926719509765533, 0.5174108711547316, 0.9253685370774284, 0.7303219780625227], \"Category\": [\"Default\", \"Default\", \"Default\", \"Default\", \"Default\", \"Default\", \"Default\", \"Default\", \"Default\", \"Default\", \"Default\", \"Default\", \"Default\", \"Default\", \"Default\", \"Default\", \"Default\", \"Default\", \"Default\", \"Default\", \"Default\", \"Default\", \"Default\", \"Default\", \"Default\", \"Default\", \"Default\", \"Default\", \"Default\", \"Default\", \"Topic1\", \"Topic1\", \"Topic1\", \"Topic1\", \"Topic1\", \"Topic1\", \"Topic1\", \"Topic1\", \"Topic1\", \"Topic1\", \"Topic1\", \"Topic1\", \"Topic1\", \"Topic1\", \"Topic1\", \"Topic1\", \"Topic1\", \"Topic1\", \"Topic1\", \"Topic1\", \"Topic1\", \"Topic1\", \"Topic1\", \"Topic1\", \"Topic1\", \"Topic1\", \"Topic1\", \"Topic1\", \"Topic1\", \"Topic1\", \"Topic1\", \"Topic1\", \"Topic1\", \"Topic1\", \"Topic1\", \"Topic1\", \"Topic1\", \"Topic1\", \"Topic1\", \"Topic1\", \"Topic1\", \"Topic1\", \"Topic1\", \"Topic1\", \"Topic1\", \"Topic1\", \"Topic1\", \"Topic1\", \"Topic1\", \"Topic1\", \"Topic1\", \"Topic1\", \"Topic1\", \"Topic1\", \"Topic1\", \"Topic1\", \"Topic1\", \"Topic1\", \"Topic1\", \"Topic1\", \"Topic1\", \"Topic2\", \"Topic2\", \"Topic2\", \"Topic2\", \"Topic2\", \"Topic2\", \"Topic2\", \"Topic2\", \"Topic2\", \"Topic2\", \"Topic2\", \"Topic2\", \"Topic2\", \"Topic2\", \"Topic2\", \"Topic2\", \"Topic2\", \"Topic2\", \"Topic2\", \"Topic2\", \"Topic2\", \"Topic2\", \"Topic2\", \"Topic2\", \"Topic2\", \"Topic2\", \"Topic2\", \"Topic2\", \"Topic2\", \"Topic2\", \"Topic2\", \"Topic2\", \"Topic2\", \"Topic2\", \"Topic2\", \"Topic2\", \"Topic2\", \"Topic2\", \"Topic2\", \"Topic2\", \"Topic2\", \"Topic2\", \"Topic2\", \"Topic2\", \"Topic2\", \"Topic2\", \"Topic2\", \"Topic2\", \"Topic2\", \"Topic2\", \"Topic2\", \"Topic2\", \"Topic2\", \"Topic2\", \"Topic2\", \"Topic2\", \"Topic2\", \"Topic2\", \"Topic3\", \"Topic3\", \"Topic3\", \"Topic3\", \"Topic3\", \"Topic3\", \"Topic3\", \"Topic3\", \"Topic3\", \"Topic3\", \"Topic3\", \"Topic3\", \"Topic3\", \"Topic3\", \"Topic3\", \"Topic3\", \"Topic3\", \"Topic3\", \"Topic3\", \"Topic3\", \"Topic3\", \"Topic3\", \"Topic3\", \"Topic3\", \"Topic3\", \"Topic3\", \"Topic3\", \"Topic3\", \"Topic3\", \"Topic3\", \"Topic3\", \"Topic3\", \"Topic3\", \"Topic3\", \"Topic3\", \"Topic3\"], \"logprob\": [30.0, 29.0, 28.0, 27.0, 26.0, 25.0, 24.0, 23.0, 22.0, 21.0, 20.0, 19.0, 18.0, 17.0, 16.0, 15.0, 14.0, 13.0, 12.0, 11.0, 10.0, 9.0, 8.0, 7.0, 6.0, 5.0, 4.0, 3.0, 2.0, 1.0, -5.0358, -5.0358, -5.0358, -5.0358, -5.0358, -5.0358, -5.0358, -5.0358, -5.0358, -5.0358, -5.0358, -35.6225, -5.3995, -5.3995, -5.6433, -5.0258, -2.406, -5.0258, -3.3682, -5.0258, -5.0258, -3.7742, -5.0258, -5.6433, -5.6433, -5.3995, -5.0258, -35.6225, -3.7742, -35.6225, -2.5887, -3.7103, -3.7742, -4.0086, -4.127, -4.127, -4.127, -4.127, -4.127, -4.7103, -4.5386, -5.0258, -5.0258, -5.0258, -5.0258, -5.0258, -4.51, -4.7273, -4.7273, -4.7273, -4.7273, -4.7273, -4.7273, -4.7273, -4.7273, -3.7546, -3.7546, -3.8233, -4.1485, -4.3096, -4.166, -4.0407, -3.3853, -5.3699, -5.3699, -5.0512, -5.0512, -5.3699, -4.39, -5.3699, -5.3699, -4.3405, -5.3699, -4.952, -4.952, -5.0034, -5.3699, -5.3699, -4.3405, -4.3405, -3.9006, -4.39, -5.3699, -5.3699, -5.3699, -4.3405, -5.0512, -5.3699, -5.3699, -5.3699, -4.4231, -3.4803, -3.9006, -3.4489, -4.0567, -4.1509, -4.3405, -4.3405, -4.3405, -4.3405, -4.3405, -4.39, -4.952, -4.952, -4.952, -4.952, -4.952, -4.952, -4.952, -3.5878, -4.952, -3.881, -4.7742, -4.286, -4.542, -3.9678, -4.6326, -4.6517, -4.8739, -3.368, -3.368, -2.132, -2.7451, -2.7451, -2.6749, -2.1076, -3.368, -3.368, -3.3327, -4.1198, -4.1198, -4.1198, -4.1198, -4.1198, -4.1198, -4.1198, -4.1198, -4.1198, -4.1198, -4.1198, -2.7786, -5.182, -5.182, -5.182, -5.182, -5.182, -5.182, -5.182, -5.182, -5.182, -4.8744, -5.182, -4.5222, -4.5358, -4.6801], \"loglift\": [30.0, 29.0, 28.0, 27.0, 26.0, 25.0, 24.0, 23.0, 22.0, 21.0, 20.0, 19.0, 18.0, 17.0, 16.0, 15.0, 14.0, 13.0, 12.0, 11.0, 10.0, 9.0, 8.0, 7.0, 6.0, 5.0, 4.0, 3.0, 2.0, 1.0, 0.818, 0.818, 0.818, 0.818, 0.818, 0.818, 0.818, 0.818, 0.818, 0.818, 0.818, 0.818, 0.818, 0.818, 0.818, 0.818, 0.818, 0.818, 0.818, 0.818, 0.818, 0.818, 0.818, 0.818, 0.818, 0.818, 0.818, 0.818, 0.818, 0.818, 0.818, 0.818, 0.818, 0.8174, 0.818, 0.818, 0.818, 0.818, 0.818, 0.818, 0.8135, 0.818, 0.818, 0.818, 0.818, 0.818, 0.8058, 0.8067, 0.8067, 0.8067, 0.8067, 0.8067, 0.8067, 0.8067, 0.8067, 0.6743, 0.6743, 0.6018, 0.4484, 0.4626, 0.0638, 0.8975, 0.8975, 0.8975, 0.8975, 0.8975, 0.8975, 0.8975, 0.8975, 0.8975, 0.8975, 0.8975, 0.8975, 0.8975, 0.8975, 0.8975, 0.8975, 0.8975, 0.8975, 0.8975, 0.8975, 0.8975, 0.8975, 0.8975, 0.8975, 0.8975, 0.8975, 0.8975, 0.8975, 0.8975, 0.8975, 0.8975, 0.8975, 0.8927, 0.8975, 0.8975, 0.8975, 0.8975, 0.8975, 0.8975, 0.8975, 0.8975, 0.8975, 0.8975, 0.8975, 0.8975, 0.8975, 0.8975, 0.8975, 0.8676, 0.8975, 0.7214, 0.8161, 0.5531, 0.6493, 0.262, 0.5511, 0.2288, -0.277, 1.8897, 1.8897, 1.8897, 1.8897, 1.8897, 1.8897, 1.8897, 1.8897, 1.8897, 1.8725, 1.755, 1.755, 1.755, 1.755, 1.755, 1.755, 1.755, 1.755, 1.755, 1.755, 1.755, 1.7526, 1.7215, 1.7215, 1.7215, 1.7215, 1.7215, 1.7215, 1.7215, 1.7215, 1.7215, 1.6484, 1.7215, 0.6615, 0.0665, 0.159]}, \"token.table\": {\"Topic\": [1, 3, 2, 1, 2, 1, 1, 1, 1, 1, 1, 1, 2, 1, 1, 2, 3, 2, 2, 1, 1, 2, 3, 1, 1, 3, 1, 2, 2, 3, 1, 1, 2, 3, 1, 2, 2], \"Freq\": [1.0697057764317257, 1.040576085997907, 1.0806505299588838, 0.9085822712717709, 0.8633286554595009, 0.9051224868342186, 1.0697057764317257, 1.2807051355235433, 1.5222559346476798, 1.5222559346476798, 1.5222559346476798, 0.744535388813163, 0.744535388813163, 1.0034933401105774, 0.9807139185326368, 0.8326103474605026, 1.1162850123519636, 1.5119705330761382, 1.3692590802934732, 1.3515727518598981, 1.0747760116812646, 1.3144115924817283, 1.1162850123519636, 1.0892466950941742, 1.5222559346476798, 1.2093397883935255, 0.712812231187427, 0.9329372682520854, 1.536364028964611, 1.1801486897575824, 1.0697057764317257, 0.9085822712717709, 1.3144115924817283, 1.0063765671124079, 1.5222559346476798, 1.6881434103068413, 0.7851136581449545], \"Term\": [\"abschaffung\", \"aktuell\", \"arbeit\", \"arbeitspl\\u00e4tzen\", \"automatisieren\", \"bereich\", \"datenboost\", \"datenschutz\", \"divers\", \"erleichertung\", \"ersetzt\", \"fehler\", \"fehler\", \"gefahr\", \"gl\\u00e4serne\", \"gut\", \"keinerlei\", \"krankheit\", \"l\\u00f6sung\", \"maschine\", \"medizin\", \"medizinische\", \"meinung\", \"mensch\", \"ops\", \"pers\\u00f6nlich\", \"privatsph\\u00e4re\", \"proze\\u00df\", \"schnell\", \"sehen\", \"sicherheitsl\\u00fccken\", \"verselbstst\\u00e4ndigung\", \"versorgung\", \"weder\", \"wissenschaft\", \"zum beispiel\", \"\\u00fcberwachung\"]}, \"R\": 30, \"lambda.step\": 0.01, \"plot.opts\": {\"xlab\": \"PC1\", \"ylab\": \"PC2\"}, \"topic.order\": [1, 3, 2]};\n",
       "\n",
       "function LDAvis_load_lib(url, callback){\n",
       "  var s = document.createElement('script');\n",
       "  s.src = url;\n",
       "  s.async = true;\n",
       "  s.onreadystatechange = s.onload = callback;\n",
       "  s.onerror = function(){console.warn(\"failed to load library \" + url);};\n",
       "  document.getElementsByTagName(\"head\")[0].appendChild(s);\n",
       "}\n",
       "\n",
       "if(typeof(LDAvis) !== \"undefined\"){\n",
       "   // already loaded: just create the visualization\n",
       "   !function(LDAvis){\n",
       "       new LDAvis(\"#\" + \"ldavis_el25431405951628677766445703930\", ldavis_el25431405951628677766445703930_data);\n",
       "   }(LDAvis);\n",
       "}else if(typeof define === \"function\" && define.amd){\n",
       "   // require.js is available: use it to load d3/LDAvis\n",
       "   require.config({paths: {d3: \"https://cdnjs.cloudflare.com/ajax/libs/d3/3.5.5/d3.min\"}});\n",
       "   require([\"d3\"], function(d3){\n",
       "      window.d3 = d3;\n",
       "      LDAvis_load_lib(\"https://cdn.rawgit.com/bmabey/pyLDAvis/files/ldavis.v1.0.0.js\", function(){\n",
       "        new LDAvis(\"#\" + \"ldavis_el25431405951628677766445703930\", ldavis_el25431405951628677766445703930_data);\n",
       "      });\n",
       "    });\n",
       "}else{\n",
       "    // require.js not available: dynamically load d3 & LDAvis\n",
       "    LDAvis_load_lib(\"https://cdnjs.cloudflare.com/ajax/libs/d3/3.5.5/d3.min.js\", function(){\n",
       "         LDAvis_load_lib(\"https://cdn.rawgit.com/bmabey/pyLDAvis/files/ldavis.v1.0.0.js\", function(){\n",
       "                 new LDAvis(\"#\" + \"ldavis_el25431405951628677766445703930\", ldavis_el25431405951628677766445703930_data);\n",
       "            })\n",
       "         });\n",
       "}\n",
       "</script>"
      ],
      "text/plain": [
       "PreparedData(topic_coordinates=              x         y  topics  cluster       Freq\n",
       "topic                                                \n",
       "0     -0.269393  0.227576       1        1  44.131184\n",
       "2     -0.100709 -0.309113       2        1  40.756974\n",
       "1      0.370102  0.081537       3        1  15.111842, topic_info=             Term      Freq     Total Category  logprob  loglift\n",
       "203         sehen  1.000000  1.000000  Default  30.0000  30.0000\n",
       "184    persönlich  1.000000  1.000000  Default  29.0000  29.0000\n",
       "164        mensch  3.000000  3.000000  Default  28.0000  28.0000\n",
       "115      gläserne  3.000000  3.000000  Default  27.0000  27.0000\n",
       "6         aktuell  0.000000  0.000000  Default  26.0000  26.0000\n",
       "..            ...       ...       ...      ...      ...      ...\n",
       "230  vereinfachen  0.106528  0.135604   Topic3  -4.8744   1.6484\n",
       "79      entziehen  0.078324  0.092672   Topic3  -5.1820   1.7215\n",
       "186       problem  0.151510  0.517411   Topic3  -4.5222   0.6615\n",
       "13         arbeit  0.149462  0.925369   Topic3  -4.5358   0.0665\n",
       "159        lösung  0.129385  0.730322   Topic3  -4.6801   0.1590\n",
       "\n",
       "[185 rows x 6 columns], token_table=      Topic      Freq                 Term\n",
       "term                                      \n",
       "4         1  1.069706          abschaffung\n",
       "6         3  1.040576              aktuell\n",
       "13        2  1.080651               arbeit\n",
       "17        1  0.908582       arbeitsplätzen\n",
       "27        2  0.863329       automatisieren\n",
       "36        1  0.905122              bereich\n",
       "50        1  1.069706           datenboost\n",
       "53        1  1.280705          datenschutz\n",
       "58        1  1.522256               divers\n",
       "83        1  1.522256        erleichertung\n",
       "87        1  1.522256              ersetzt\n",
       "95        1  0.744535               fehler\n",
       "95        2  0.744535               fehler\n",
       "107       1  1.003493               gefahr\n",
       "115       1  0.980714             gläserne\n",
       "117       2  0.832610                  gut\n",
       "136       3  1.116285            keinerlei\n",
       "145       2  1.511971            krankheit\n",
       "159       2  1.369259               lösung\n",
       "160       1  1.351573             maschine\n",
       "161       1  1.074776              medizin\n",
       "162       2  1.314412         medizinische\n",
       "163       3  1.116285              meinung\n",
       "164       1  1.089247               mensch\n",
       "179       1  1.522256                  ops\n",
       "184       3  1.209340           persönlich\n",
       "185       1  0.712812         privatsphäre\n",
       "189       2  0.932937               prozeß\n",
       "199       2  1.536364              schnell\n",
       "203       3  1.180149                sehen\n",
       "206       1  1.069706    sicherheitslücken\n",
       "240       1  0.908582  verselbstständigung\n",
       "241       2  1.314412           versorgung\n",
       "250       3  1.006377                weder\n",
       "256       1  1.522256         wissenschaft\n",
       "260       2  1.688143         zum beispiel\n",
       "266       2  0.785114          überwachung, R=30, lambda_step=0.01, plot_opts={'xlab': 'PC1', 'ylab': 'PC2'}, topic_order=[1, 3, 2])"
      ]
     },
     "execution_count": 163,
     "metadata": {},
     "output_type": "execute_result"
    }
   ],
   "source": [
    "numberOfTopics = 3\n",
    "# calculate nmf\n",
    "nmf = NMF(n_components=numberOfTopics, random_state=1).fit(tfidf_transformed)\n",
    "\n",
    "# vis\n",
    "vis_nmf = pyLDAvis.sklearn.prepare(nmf, tfidf_transformed, tfidf)\n",
    "vis_nmf"
   ]
  },
  {
   "cell_type": "code",
   "execution_count": 174,
   "metadata": {},
   "outputs": [],
   "source": [
    "# prepare pd dataframe\n",
    "# probability of each word in a topic\n",
    "wordPerTopic_nmf = pd.DataFrame(nmf.components_, index = [\"topic\" + str(i) for i in range(numberOfTopics)], columns = tfidf.get_feature_names())\n",
    "\n",
    "# top words for each topic\n",
    "top = 5\n",
    "topWordPerTopic_nmf = pd.DataFrame([[name, rows.sort_values(ascending = False).index.tolist()[:top]] for name, rows in wordPerTopic_nmf.iterrows()])\n",
    "\n",
    "# probability of each topic per document\n",
    "topicPerDoc_nmf = nmf.transform(tfidf_transformed)\n",
    "nmf_result = pd.DataFrame(topicPerDoc_nmf)\n",
    "topTopicPerDoc_nmf = nmf_result.T.apply(lambda x: x.idxmax())\n",
    "topTopicPerDoc_nmf = pd.DataFrame([\"topic\"])"
   ]
  },
  {
   "cell_type": "code",
   "execution_count": 175,
   "metadata": {},
   "outputs": [
    {
     "data": {
      "text/plain": [
       "0     0\n",
       "1     0\n",
       "2     2\n",
       "3     2\n",
       "4     2\n",
       "5     0\n",
       "6     1\n",
       "7     2\n",
       "8     2\n",
       "9     1\n",
       "10    0\n",
       "11    2\n",
       "12    1\n",
       "13    1\n",
       "14    0\n",
       "15    2\n",
       "16    2\n",
       "17    0\n",
       "18    0\n",
       "19    2\n",
       "20    0\n",
       "21    0\n",
       "22    2\n",
       "23    0\n",
       "24    2\n",
       "25    0\n",
       "26    0\n",
       "27    1\n",
       "28    2\n",
       "dtype: int64"
      ]
     },
     "execution_count": 175,
     "metadata": {},
     "output_type": "execute_result"
    }
   ],
   "source": [
    "topTopicPerDoc_nmf"
   ]
  },
  {
   "cell_type": "code",
   "execution_count": 170,
   "metadata": {},
   "outputs": [],
   "source": [
    "\n",
    "# put parts together\n",
    "nmf_merged = pd.DataFrame(topTopicPerDoc_nmf).merge(topWordPerTopic_nmf, how=\"left\")\n",
    "nmf_merged = pd.concat([nmf_merged, pd.Series(text_list)], axis = 1)"
   ]
  },
  {
   "cell_type": "code",
   "execution_count": 171,
   "metadata": {},
   "outputs": [],
   "source": []
  },
  {
   "cell_type": "code",
   "execution_count": 172,
   "metadata": {},
   "outputs": [
    {
     "ename": "NameError",
     "evalue": "name 'complete' is not defined",
     "output_type": "error",
     "traceback": [
      "\u001b[0;31m---------------------------------------------------------------------------\u001b[0m",
      "\u001b[0;31mNameError\u001b[0m                                 Traceback (most recent call last)",
      "\u001b[0;32m<ipython-input-172-0a99c29a55db>\u001b[0m in \u001b[0;36m<module>\u001b[0;34m\u001b[0m\n\u001b[1;32m      1\u001b[0m \u001b[0mnmf_complete\u001b[0m \u001b[0;34m=\u001b[0m \u001b[0mnmf_result\u001b[0m\u001b[0;34m.\u001b[0m\u001b[0mT\u001b[0m\u001b[0;34m.\u001b[0m\u001b[0mapply\u001b[0m\u001b[0;34m(\u001b[0m\u001b[0;32mlambda\u001b[0m \u001b[0mx\u001b[0m\u001b[0;34m:\u001b[0m \u001b[0mx\u001b[0m\u001b[0;34m.\u001b[0m\u001b[0midxmax\u001b[0m\u001b[0;34m(\u001b[0m\u001b[0;34m)\u001b[0m\u001b[0;34m)\u001b[0m\u001b[0;34m\u001b[0m\u001b[0;34m\u001b[0m\u001b[0m\n\u001b[0;32m----> 2\u001b[0;31m \u001b[0mnmf_merged\u001b[0m \u001b[0;34m=\u001b[0m \u001b[0mpd\u001b[0m\u001b[0;34m.\u001b[0m\u001b[0mDataFrame\u001b[0m\u001b[0;34m(\u001b[0m\u001b[0mcomplete\u001b[0m\u001b[0;34m)\u001b[0m\u001b[0;34m.\u001b[0m\u001b[0mmerge\u001b[0m\u001b[0;34m(\u001b[0m\u001b[0mnmf_wordsPerTopic\u001b[0m\u001b[0;34m,\u001b[0m \u001b[0mhow\u001b[0m\u001b[0;34m=\u001b[0m\u001b[0;34m\"left\"\u001b[0m\u001b[0;34m)\u001b[0m\u001b[0;34m\u001b[0m\u001b[0;34m\u001b[0m\u001b[0m\n\u001b[0m\u001b[1;32m      3\u001b[0m \u001b[0mnmf_merged\u001b[0m \u001b[0;34m=\u001b[0m \u001b[0mpd\u001b[0m\u001b[0;34m.\u001b[0m\u001b[0mconcat\u001b[0m\u001b[0;34m(\u001b[0m\u001b[0;34m[\u001b[0m\u001b[0mnmf_merged\u001b[0m\u001b[0;34m,\u001b[0m \u001b[0mpd\u001b[0m\u001b[0;34m.\u001b[0m\u001b[0mSeries\u001b[0m\u001b[0;34m(\u001b[0m\u001b[0mtext_list\u001b[0m\u001b[0;34m)\u001b[0m\u001b[0;34m]\u001b[0m\u001b[0;34m,\u001b[0m \u001b[0maxis\u001b[0m \u001b[0;34m=\u001b[0m \u001b[0;36m1\u001b[0m\u001b[0;34m)\u001b[0m\u001b[0;34m\u001b[0m\u001b[0;34m\u001b[0m\u001b[0m\n",
      "\u001b[0;31mNameError\u001b[0m: name 'complete' is not defined"
     ]
    }
   ],
   "source": [
    "nmf_complete = nmf_result.T.apply(lambda x: x.idxmax())\n"
   ]
  },
  {
   "cell_type": "code",
   "execution_count": null,
   "metadata": {},
   "outputs": [],
   "source": []
  },
  {
   "cell_type": "code",
   "execution_count": null,
   "metadata": {},
   "outputs": [],
   "source": [
    "# prepare to populate a pandas dataframe\n",
    "\n",
    "# probability of each word in a topic\n",
    "wordPerTopic_sk = pd.DataFrame(lda_sk.components_, index=[\"topic\"+str(num) for num in range(lda_sk.n_components)], columns = cV.get_feature_names())\n",
    "\n",
    "# top words for each topic\n",
    "top = 5\n",
    "topWordPerTopic_sk = pd.DataFrame([[name, rows.sort_values(ascending = False).index.tolist()[:top]] for name, rows in wordPerTopic_sk.iterrows()])\n",
    "\n",
    "# probability of each topic per document\n",
    "topicPerDoc_sk = pd.DataFrame(lda_sk.transform(bow_corpus_sk), index = [\"commentary\" + str(i) for i in range(len(final2))], columns = [\"topic\" + str(i) for i in range(lda_sk.n_components)])\n",
    "\n",
    "topTopicPerDoc_sk = topicPerDoc_sk.T.apply(lambda x: x.idxmax())\n",
    "\n",
    "# merge different parts\n",
    "merged = pd.DataFrame(topTopicPerDoc_sk).merge(topWordPerTopic_sk, how=\"left\")\n",
    "merged = pd.concat([merged, pd.Series(text_list)], axis = 1)\n",
    "\n",
    "# rename\n",
    "merged.columns = [\"topic\", \"words\", \"text\"]\n",
    "\n",
    "#split words in seperate cols\n",
    "merged[[\"word\" + str(n) for n in range(top)]] = pd.DataFrame(merged[\"words\"].tolist())\n",
    "newSorting = [\"topic\"] + [\"word\"+str(i) for i in range(top)] + [\"text\"]\n",
    "merged = merged.loc[:, newSorting]"
   ]
  },
  {
   "cell_type": "code",
   "execution_count": null,
   "metadata": {},
   "outputs": [],
   "source": []
  },
  {
   "cell_type": "code",
   "execution_count": null,
   "metadata": {},
   "outputs": [],
   "source": []
  },
  {
   "cell_type": "code",
   "execution_count": 84,
   "metadata": {},
   "outputs": [],
   "source": [
    "nmf_merged.to_csv('/home/daniel/git/nmf_sklearn2.csv', sep=\";\") "
   ]
  },
  {
   "cell_type": "code",
   "execution_count": 176,
   "metadata": {},
   "outputs": [],
   "source": [
    "merged.to_csv('/home/daniel/git/lda_sklearn2.csv', sep =\";\")"
   ]
  },
  {
   "cell_type": "code",
   "execution_count": 177,
   "metadata": {},
   "outputs": [],
   "source": [
    "gensim_lda_total.to_csv('/home/daniel/git/lda_gensim2.csv', sep = \";\")"
   ]
  },
  {
   "cell_type": "code",
   "execution_count": null,
   "metadata": {},
   "outputs": [],
   "source": []
  },
  {
   "cell_type": "code",
   "execution_count": 47,
   "metadata": {},
   "outputs": [],
   "source": [
    "def text_analysis(numberOfTopics, numberOfTopWords, textData):\n",
    "    \"\"\"\n",
    "    preprocesses text + calculates the LDA with specific number of topics.\n",
    "\n",
    "    args-\n",
    "    -numberOfTopics: the number of topics over all documents\n",
    "    -numberOfTopWords: the number of top words to be displayed\n",
    "    -textData: DataFrame of text documents\n",
    "\n",
    "    returns [pyLDAvis.thml, pd.DataFrame all results, DataFrame for wordPerTopic]\n",
    "    \"\"\"\n",
    "\n",
    "    # text preprocessing\n",
    "    # initialize nlp\n",
    "    nlp = de_core_news_sm.load()\n",
    "\n",
    "    # feed the document into the object\n",
    "    document_list = [nlp(answer) for answer in textData]\n",
    "\n",
    "    # delete stop words\n",
    "    without_stop_words = []\n",
    "    for doc in document_list:\n",
    "        without_stop_words.append([token for token in doc if token.is_stop != True])\n",
    "\n",
    "    # lemmatize\n",
    "    lemma_list = []\n",
    "    for doc in without_stop_words:\n",
    "        lemma_list.append([token.lemma_ for token in doc])\n",
    "\n",
    "    # clean expressions\n",
    "    expressions = [\":\", \"-\", \"(\", \")\", \"\\n\", \"\\n\\n\", \"?\", \":\",\"\\'\", '\\\"', \".\", \",\", \"'s\", \"...\", \"&\", \"+\", \"1\", \"2\", \"3\", \"4\", \"5\", \"6\", \"7\", \"8\", \"9\", \";-)\", \" \", \";\", \"/\", \"z.\", \"b.\"]\n",
    "\n",
    "    # acutal cleaning\n",
    "    cleaned_lemma = []\n",
    "    for doc in lemma_list:\n",
    "        cleaned_lemma.append([token for token in doc if token not in expressions])\n",
    "\n",
    "    # convert text to lowercase\n",
    "    low = []\n",
    "    for doc in cleaned_lemma:\n",
    "        low.append([token.lower() for token in doc])\n",
    "\n",
    "    # terminate empty cells or 1-word cells\n",
    "    final = []\n",
    "    text_list = []\n",
    "    for doc, t in zip(low, textData):\n",
    "        if len(doc)>1:\n",
    "            final.append(doc)\n",
    "            text_list.append(t)\n",
    "\n",
    "    # cleane non informative words\n",
    "    final2 = []\n",
    "    for doc in final:\n",
    "        final2.append([token for token in doc if token not in [\"risiko\", \"chance\", \"ki\"]])\n",
    "\n",
    "    # text mining!\n",
    "    # call vectorizer\n",
    "    cV = CountVectorizer(tokenizer=dummy, preprocessor=dummy)\n",
    "\n",
    "    # fit vecotrizer\n",
    "    cV.fit(final2)\n",
    "\n",
    "    # create bow corpus\n",
    "    bow_corpus_sk = cV.transform(final2)\n",
    "\n",
    "    # LDA\n",
    "    alpha = 0.5 # the higher the more topics in one document\n",
    "    beta = 0.1 # the higher the more words of the corpus are in the topic\n",
    "\n",
    "    #call the lda object\n",
    "    lda_sk = LatentDirichletAllocation(n_components=numberOfTopics, doc_topic_prior=beta, topic_word_prior=alpha, random_state=1)\n",
    "    #fitting\n",
    "    lda_sk.fit(bow_corpus_sk)\n",
    "\n",
    "    # pyLDAvis\n",
    "    vis_sk = pyLDAvis.sklearn.prepare(lda_sk, bow_corpus_sk, cV)\n",
    "    vis_html = pyLDAvis.prepared_data_to_html(vis_sk)\n",
    "\n",
    "    #prepare the pd.DataFrame!\n",
    "    # probability of each word in a topic\n",
    "    wordPerTopic_sk = pd.DataFrame(lda_sk.components_, index=[\"topic\"+str(num) for num in range(lda_sk.n_components)], columns = cV.get_feature_names())\n",
    "\n",
    "    # top words for each topic\n",
    "    top = numberOfTopWords\n",
    "    topWordPerTopic_sk = pd.DataFrame([[name, rows.sort_values(ascending = False).index.tolist()[:top]] for name, rows in wordPerTopic_sk.iterrows()])\n",
    "\n",
    "    # probability of each topic per document\n",
    "    topicPerDoc_sk = pd.DataFrame(lda_sk.transform(bow_corpus_sk), index = [\"commentary\" + str(i) for i in range(len(final2))], columns = [\"topic\" + str(i) for i in range(lda_sk.n_components)])\n",
    "\n",
    "    topTopicPerDoc_sk = topicPerDoc_sk.T.apply(lambda x: x.idxmax())\n",
    "\n",
    "    # merge different parts\n",
    "    merged = pd.DataFrame(topTopicPerDoc_sk).merge(topWordPerTopic_sk, how=\"left\")\n",
    "    merged = pd.concat([merged, pd.Series(text_list)], axis = 1)\n",
    "\n",
    "    # rename\n",
    "    merged.columns = [\"topic\", \"words\", \"text\"]\n",
    "\n",
    "    #split words in seperate cols\n",
    "    merged[[\"word\" + str(n) for n in range(top)]] = pd.DataFrame(merged[\"words\"].tolist())\n",
    "    newSorting = [\"topic\"] + [\"word\"+str(i) for i in range(top)] + [\"text\"]\n",
    "    merged = merged.loc[:, newSorting]\n",
    "\n",
    "    topWords = topWordPerTopic_sk.iloc[:, 0]\n",
    "    topWords = pd.concat([topWords, pd.DataFrame(topWordPerTopic_sk.iloc[:,1].tolist(), columns = [\"word \" + str(n+1) for n in range(top)])], axis = 1)\n",
    "    topWords.rename(columns={0:\"Topic\"}, inplace=True)\n",
    "\n",
    "    return [vis_html, merged, topWords]"
   ]
  },
  {
   "cell_type": "code",
   "execution_count": 48,
   "metadata": {},
   "outputs": [],
   "source": [
    "result = text_analysis(4, 5, text)"
   ]
  },
  {
   "cell_type": "code",
   "execution_count": 52,
   "metadata": {},
   "outputs": [
    {
     "data": {
      "text/plain": [
       "0                                                     1\n",
       "1                     Risiko Datenschutz + Privatsphäre\n",
       "2     Chancen: Sicherheit, Prävention\\nRisiken: der ...\n",
       "3     Chancen: Minimierung von Fehlern\\nRisiken: \"En...\n",
       "4     Analyse von vielen unstrukturierten und auf de...\n",
       "5     KI könnte den Arbeitsalltag erleichtern, indem...\n",
       "6                                       gläserne Mensch\n",
       "7     Ich bin kein Freund von KI und würde es auch n...\n",
       "8                                                     1\n",
       "9     Chancen: Schnelligkeit, Entlastung bei (lästig...\n",
       "10    um ein vereinfachtes Leben mit einer Krankheit...\n",
       "11    dazu habe ich leider keinerlei Meinung. Ich se...\n",
       "12    Risiken: \\nAbgabe von Kontrolle durch den Mens...\n",
       "13    Chancen: \\nGroße Fortschritte in Wissenschaft/...\n",
       "14    Generell darin Abläufe zu vereinfachen und eff...\n",
       "15    Für mich persönlich sehe ich keine Chancen von...\n",
       "16    der gläserne Mensch, Privatsphäre, Abschaffung...\n",
       "17    Chancen: Erleichterung der Arbeit durch schnel...\n",
       "18    (Klugscheißer-Input: WÄre es für's Textmining ...\n",
       "19    +\\nMehr Komfort\\n\\n-\\nGefahr der Black Box (Wa...\n",
       "20    Zusammenhänge in kürzester Zeit verstehem und ...\n",
       "21    Chancen: Effizienz im Alltag und bei der Arbei...\n",
       "22    Chancen: Erleichertung in diversen Bereichen (...\n",
       "23    Ki gefährdet einfache Arbeitsplätze, weil dies...\n",
       "24    Chance: bessere medizinische Versorgung, Risik...\n",
       "25                                                    1\n",
       "26    Risiken: Verdrängung der Menschen vom Arbeitsm...\n",
       "27    Chance: schnelleres Llund besseres Arbeiten. F...\n",
       "28    Chancen: Generell Effizienzgewinne, da Tätigke...\n",
       "29    KI ist eine perfekte Unterstützung, sollte abe...\n",
       "30    Ich sehe die Chancen in der KI darin, mir Arbe...\n",
       "31    KI ist weder die Lösung noch das Problem. Sie ...\n",
       "Name: f5, dtype: object"
      ]
     },
     "execution_count": 52,
     "metadata": {},
     "output_type": "execute_result"
    }
   ],
   "source": []
  },
  {
   "cell_type": "code",
   "execution_count": null,
   "metadata": {},
   "outputs": [],
   "source": [
    "#https://medium.com/@yanlinc/how-to-build-a-lda-topic-model-using-from-text-601cdcbfd3a6"
   ]
  },
  {
   "cell_type": "code",
   "execution_count": 196,
   "metadata": {},
   "outputs": [],
   "source": [
    "#https://medium.com/mlreview/topic-modeling-with-scikit-learn-e80d33668730"
   ]
  },
  {
   "cell_type": "code",
   "execution_count": 197,
   "metadata": {},
   "outputs": [],
   "source": [
    "#https://towardsdatascience.com/building-a-topic-modeling-pipeline-with-spacy-and-gensim-c5dc03ffc619"
   ]
  },
  {
   "cell_type": "code",
   "execution_count": null,
   "metadata": {},
   "outputs": [],
   "source": [
    "#https://medium.com/mlreview/topic-modeling-with-scikit-learn-e80d33668730"
   ]
  }
 ],
 "metadata": {
  "kernelspec": {
   "display_name": "Python 3.7.3 64-bit ('universityJobDay': pipenv)",
   "language": "python",
   "name": "python37364bituniversityjobdaypipenv842aa61eeddc402495f18475eb3a03c1"
  },
  "language_info": {
   "codemirror_mode": {
    "name": "ipython",
    "version": 3
   },
   "file_extension": ".py",
   "mimetype": "text/x-python",
   "name": "python",
   "nbconvert_exporter": "python",
   "pygments_lexer": "ipython3",
   "version": "3.7.3"
  }
 },
 "nbformat": 4,
 "nbformat_minor": 2
}
